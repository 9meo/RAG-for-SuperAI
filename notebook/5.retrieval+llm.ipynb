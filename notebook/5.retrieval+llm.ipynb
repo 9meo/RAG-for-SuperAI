{
 "cells": [
  {
   "cell_type": "code",
   "execution_count": 1,
   "metadata": {},
   "outputs": [],
   "source": [
    "from llama_index.embeddings.huggingface import HuggingFaceEmbedding\n",
    "embedding_model_name = '../models/bge-m3'\n",
    "# embedding_model_name = 'kornwtp/simcse-model-phayathaibert'\n",
    "embed_model = HuggingFaceEmbedding(model_name=embedding_model_name,max_length=1024, device='cpu')"
   ]
  },
  {
   "cell_type": "code",
   "execution_count": 2,
   "metadata": {},
   "outputs": [],
   "source": [
    "from llama_index.core import SimpleDirectoryReader, VectorStoreIndex\n",
    "from llama_index.llms.llama_cpp import LlamaCPP\n",
    "from llama_index.llms.llama_cpp.llama_utils import (\n",
    "    messages_to_prompt,\n",
    "    completion_to_prompt,\n",
    ")"
   ]
  },
  {
   "cell_type": "code",
   "execution_count": 3,
   "metadata": {},
   "outputs": [
    {
     "name": "stdout",
     "output_type": "stream",
     "text": [
      "LLM is explicitly disabled. Using MockLLM.\n"
     ]
    }
   ],
   "source": [
    "from llama_index.core import Settings\n",
    "\n",
    "Settings.llm = None\n",
    "Settings.embed_model = embed_model"
   ]
  },
  {
   "cell_type": "code",
   "execution_count": 4,
   "metadata": {},
   "outputs": [],
   "source": [
    "from llama_index.core import (\n",
    "\n",
    "    load_index_from_storage,\n",
    "    StorageContext,\n",
    ")\n",
    "\n",
    "from IPython.display import Markdown, display\n",
    "from llama_index.vector_stores.faiss import FaissVectorStore\n"
   ]
  },
  {
   "cell_type": "code",
   "execution_count": 5,
   "metadata": {},
   "outputs": [],
   "source": [
    "persist_dir=\"../index\"\n",
    "vector_store = FaissVectorStore.from_persist_dir(persist_dir)\n",
    "storage_context = StorageContext.from_defaults(vector_store=vector_store, persist_dir=persist_dir)\n",
    "index = load_index_from_storage(storage_context=storage_context)"
   ]
  },
  {
   "cell_type": "code",
   "execution_count": 6,
   "metadata": {},
   "outputs": [],
   "source": [
    "query_enging = index.as_query_engine()\n"
   ]
  },
  {
   "cell_type": "code",
   "execution_count": 7,
   "metadata": {},
   "outputs": [],
   "source": [
    "question = 'แนะนำที่เที่ยวจังหวัดอยุธยาให้หน่อย'\n",
    "response_ = query_enging.query(question)"
   ]
  },
  {
   "cell_type": "code",
   "execution_count": 8,
   "metadata": {},
   "outputs": [
    {
     "name": "stdout",
     "output_type": "stream",
     "text": [
      "Context information is below.\n",
      "---------------------\n",
      "==\n",
      "\n",
      "ศูนย์ท่องเที่ยวอยุธยา (ATC)\n",
      "ศูนย์ศึกษาประวัติศาสตร์อยุธยา\n",
      "พิพิธภัณฑสถานแห่งชาติ เจ้าสามพระยา\n",
      "อุทยานประวัติศาสตร์พระนครศรีอยุธยา\n",
      "วัดพระศรีสรรเพชญ์\n",
      "พระราชวังโบราณ อยุธยา\n",
      "พระที่นั่งวิหารสมเด็จ\n",
      "พระที่นั่งสรรเพชญปราสาท\n",
      "พระที่นั่งสุริยาสน์อมรินทร์\n",
      "\n",
      "เมื่อวันที่ 13 ธันวาคม พ.ศ. 2534 มีพื้นที่ครอบคลุมในบริเวณโบราณสถานเมืองอยุธยา\n",
      "\n",
      "\n",
      "== ภูมิศาสตร์ ==\n",
      "\n",
      "\n",
      "=== สภาพภูมิอากาศ ===\n",
      "\n",
      "\n",
      "== สัญลักษณ์ประจำจังหวัด ==\n",
      "คำขวัญประจำจังหวัด : ราชธานีเก่า อู่ข้าวอู่น้ำ เลิศล้ำกานท์กวี คนดีศรีอยุธยา เลอคุณค่ามรดกโลก\n",
      "ตราประจำจังหวัด :\n",
      "---------------------\n",
      "Given the context information and not prior knowledge, answer the query.\n",
      "Query: แนะนำที่เที่ยวจังหวัดอยุธยาให้หน่อย\n",
      "Answer: \n"
     ]
    }
   ],
   "source": [
    "print(response_.response)"
   ]
  },
  {
   "cell_type": "code",
   "execution_count": 9,
   "metadata": {},
   "outputs": [],
   "source": [
    "import json"
   ]
  },
  {
   "cell_type": "code",
   "execution_count": 10,
   "metadata": {},
   "outputs": [],
   "source": [
    "import requests\n",
    "def send_api2(prompt,\n",
    "             url ='http://127.0.0.1:8080/completion',\n",
    "             temp = 0.7,\n",
    "             n_predict= 512,\n",
    "            ):\n",
    "    payload = json.dumps({\n",
    "    \"prompt\": f'''<s>[INST] <<SYS>>\n",
    "    You are a question answering assistant. Answer the question as truthful and helpful as possible\n",
    "    คุณคือผู้ช่วยตอบคำถาม จงตอบคำถามอย่างถูกต้องและมีประโยชน์ที่สุด\n",
    "    <</SYS>>\n",
    "\n",
    "    Answer the question based only on the following context:\n",
    "    {prompt}\n",
    "\n",
    "    [/INST]''',\n",
    "    \"n_predict\": n_predict,\n",
    "    'temperature': temp,\n",
    "    \"stop\": [\"</s>\"]\n",
    "    })\n",
    "\n",
    "    headers = {\n",
    "    'Content-Type': 'application/json'\n",
    "    }\n",
    "    response = requests.request(\"POST\", url, headers=headers, data=payload)\n",
    "    \n",
    "    return response.json()"
   ]
  },
  {
   "cell_type": "code",
   "execution_count": 11,
   "metadata": {},
   "outputs": [],
   "source": [
    "def generate_answer(question):\n",
    "    response_ = query_enging.query(question)\n",
    "    res_ = send_api2(prompt=response_.response)\n",
    "    return res_"
   ]
  },
  {
   "cell_type": "code",
   "execution_count": 12,
   "metadata": {},
   "outputs": [
    {
     "data": {
      "text/plain": [
       "{'content': 'จังหวัดพระนครศรีอยุธยามีทั้งหมด 16 อำเภอ ได้แก่ อำเภอพระนครศรีอยุธยา, อำเภอท่าเรือ, อำเภอนครหลวง, อำเภอบางบาล, อำเภอบางปะหัน, อำเภอภาชี, อำเภอบางปะหัน, อำเภอบ้านแพรก, อำเภอบ้านหมอ, อำเภอบางขุนเทียน, อำเภอบ้านเมาะ, อำเภออุทัย, อำเภอบางปะอิน, อำเภอบางขุนเทียน, อำเภอบ้านโป่ง, อำเภอโพน อำเภอบางระจัน และอำเภอลาดบัวหลวง',\n",
       " 'id_slot': 0,\n",
       " 'stop': True,\n",
       " 'model': '/home/search/code/models/openthaigpt-Q4_K_M.gguf',\n",
       " 'tokens_predicted': 128,\n",
       " 'tokens_evaluated': 281,\n",
       " 'generation_settings': {'n_ctx': 512,\n",
       "  'n_predict': -1,\n",
       "  'model': '/home/search/code/models/openthaigpt-Q4_K_M.gguf',\n",
       "  'seed': 4294967295,\n",
       "  'temperature': 0.699999988079071,\n",
       "  'dynatemp_range': 0.0,\n",
       "  'dynatemp_exponent': 1.0,\n",
       "  'top_k': 40,\n",
       "  'top_p': 0.949999988079071,\n",
       "  'min_p': 0.05000000074505806,\n",
       "  'tfs_z': 1.0,\n",
       "  'typical_p': 1.0,\n",
       "  'repeat_last_n': 64,\n",
       "  'repeat_penalty': 1.0,\n",
       "  'presence_penalty': 0.0,\n",
       "  'frequency_penalty': 0.0,\n",
       "  'penalty_prompt_tokens': [],\n",
       "  'use_penalty_prompt_tokens': False,\n",
       "  'mirostat': 0,\n",
       "  'mirostat_tau': 5.0,\n",
       "  'mirostat_eta': 0.10000000149011612,\n",
       "  'penalize_nl': False,\n",
       "  'stop': ['</s>'],\n",
       "  'n_keep': 0,\n",
       "  'n_discard': 0,\n",
       "  'ignore_eos': False,\n",
       "  'stream': False,\n",
       "  'logit_bias': [],\n",
       "  'n_probs': 0,\n",
       "  'min_keep': 0,\n",
       "  'grammar': '',\n",
       "  'samplers': ['top_k',\n",
       "   'tfs_z',\n",
       "   'typical_p',\n",
       "   'top_p',\n",
       "   'min_p',\n",
       "   'temperature']},\n",
       " 'prompt': '<s>[INST] <<SYS>>\\n    You are a question answering assistant. Answer the question as truthful and helpful as possible\\n    คุณคือผู้ช่วยตอบคำถาม จงตอบคำถามอย่างถูกต้องและมีประโยชน์ที่สุด\\n    <</SYS>>\\n\\n    Answer the question based only on the following context:\\n    Context information is below.\\n---------------------\\n(ขึ้นกับอำเภอเสนา) และกิ่งอำเภอบ้านแพรก (ขึ้นกับอำเภอมหาราช) ได้รับการยกฐานะขึ้นเป็นอำเภอตามลำดับจนครบในปี พ.ศ. 2502\\n\\n\\n=== การแบ่งเขตการปกครองในปัจจุบัน ===\\n\\n\\n==== การปกครองส่วนภูมิภาค ====\\n\\nปัจจุบันจังหวัดพระนครศรีอยุธยาประกอบด้วย 16 อำเภอ  209 ตำบล ได้แก่\\n\\n\\n==== การปกครองส่วนท้องถิ่น\\n\\n30 แห่ง, และองค์การบริหารส่วนตำบล 121 แห่ง โดยเทศบาลสามารถจำแนกได้ตามอำเภอต่าง ๆ ดังนี้\\n\\n\\n=== รายชื่อเจ้าเมืองและผู้ว่าราชการจังหวัด ===\\n\\n\\n== เศรษฐกิจ ==\\n\\nจังหวัดพระนครศรีอยุธยาถือเป็นจังหวัดที่มีการเติบโตทางเศรษฐกิจอย่างต่อเนื่อง\\n---------------------\\nGiven the context information and not prior knowledge, answer the query.\\nQuery: อยุธยามีกี่อำเภอ\\nAnswer: \\n\\n    [/INST]',\n",
       " 'truncated': False,\n",
       " 'stopped_eos': True,\n",
       " 'stopped_word': True,\n",
       " 'stopped_limit': False,\n",
       " 'stopping_word': '</s>',\n",
       " 'tokens_cached': 408,\n",
       " 'timings': {'prompt_n': 281,\n",
       "  'prompt_ms': 11126.208,\n",
       "  'prompt_per_token_ms': 39.595046263345196,\n",
       "  'prompt_per_second': 25.255684596225418,\n",
       "  'predicted_n': 128,\n",
       "  'predicted_ms': 14219.795,\n",
       "  'predicted_per_token_ms': 111.0921484375,\n",
       "  'predicted_per_second': 9.001536238743245}}"
      ]
     },
     "execution_count": 12,
     "metadata": {},
     "output_type": "execute_result"
    }
   ],
   "source": [
    "generate_answer('อยุธยามีกี่อำเภอ')"
   ]
  },
  {
   "cell_type": "code",
   "execution_count": null,
   "metadata": {},
   "outputs": [],
   "source": []
  }
 ],
 "metadata": {
  "kernelspec": {
   "display_name": "Python 3",
   "language": "python",
   "name": "python3"
  },
  "language_info": {
   "codemirror_mode": {
    "name": "ipython",
    "version": 3
   },
   "file_extension": ".py",
   "mimetype": "text/x-python",
   "name": "python",
   "nbconvert_exporter": "python",
   "pygments_lexer": "ipython3",
   "version": "3.10.12"
  }
 },
 "nbformat": 4,
 "nbformat_minor": 2
}

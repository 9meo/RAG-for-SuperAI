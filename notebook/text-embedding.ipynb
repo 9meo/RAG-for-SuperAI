{
 "cells": [
  {
   "cell_type": "code",
   "execution_count": null,
   "metadata": {},
   "outputs": [],
   "source": [
    "# %pip install llama-index-embeddings-huggingface\n",
    "# %pip install llama-index-embeddings-instructor\n",
    "# %pip install llama-index"
   ]
  },
  {
   "cell_type": "code",
   "execution_count": 1,
   "metadata": {},
   "outputs": [],
   "source": [
    "from llama_index.embeddings.huggingface import HuggingFaceEmbedding"
   ]
  },
  {
   "cell_type": "code",
   "execution_count": 2,
   "metadata": {},
   "outputs": [
    {
     "data": {
      "application/vnd.jupyter.widget-view+json": {
       "model_id": "1b0d21d6ec524175b4b348416c47dc4c",
       "version_major": 2,
       "version_minor": 0
      },
      "text/plain": [
       "config.json:   0%|          | 0.00/687 [00:00<?, ?B/s]"
      ]
     },
     "metadata": {},
     "output_type": "display_data"
    },
    {
     "data": {
      "application/vnd.jupyter.widget-view+json": {
       "model_id": "5febcc7d8e904903b6cc00bc5d9e532a",
       "version_major": 2,
       "version_minor": 0
      },
      "text/plain": [
       "pytorch_model.bin:   0%|          | 0.00/2.27G [00:00<?, ?B/s]"
      ]
     },
     "metadata": {},
     "output_type": "display_data"
    },
    {
     "data": {
      "application/vnd.jupyter.widget-view+json": {
       "model_id": "2a22d1445e504b99b5faa7ef1bbe13ae",
       "version_major": 2,
       "version_minor": 0
      },
      "text/plain": [
       "tokenizer_config.json:   0%|          | 0.00/444 [00:00<?, ?B/s]"
      ]
     },
     "metadata": {},
     "output_type": "display_data"
    },
    {
     "data": {
      "application/vnd.jupyter.widget-view+json": {
       "model_id": "fcb97cfa930643bfaa7cc1eede18c5b4",
       "version_major": 2,
       "version_minor": 0
      },
      "text/plain": [
       "sentencepiece.bpe.model:   0%|          | 0.00/5.07M [00:00<?, ?B/s]"
      ]
     },
     "metadata": {},
     "output_type": "display_data"
    },
    {
     "data": {
      "application/vnd.jupyter.widget-view+json": {
       "model_id": "af9daaa004ba4d848f7c7d78383b9b58",
       "version_major": 2,
       "version_minor": 0
      },
      "text/plain": [
       "tokenizer.json:   0%|          | 0.00/17.1M [00:00<?, ?B/s]"
      ]
     },
     "metadata": {},
     "output_type": "display_data"
    },
    {
     "data": {
      "application/vnd.jupyter.widget-view+json": {
       "model_id": "926e348cbe764b1c8a686df1a08d97ae",
       "version_major": 2,
       "version_minor": 0
      },
      "text/plain": [
       "special_tokens_map.json:   0%|          | 0.00/964 [00:00<?, ?B/s]"
      ]
     },
     "metadata": {},
     "output_type": "display_data"
    }
   ],
   "source": [
    "embedding_model_name = 'BAAI/bge-m3'\n",
    "# embedding_model_name = 'kornwtp/simcse-model-phayathaibert'\n",
    "embed_model = HuggingFaceEmbedding(model_name=embedding_model_name,max_length=1024, device='cpu')"
   ]
  },
  {
   "cell_type": "code",
   "execution_count": 4,
   "metadata": {},
   "outputs": [
    {
     "name": "stdout",
     "output_type": "stream",
     "text": [
      "1024\n"
     ]
    }
   ],
   "source": [
    "embeddings = embed_model.get_text_embedding(\"Hello World!\")\n",
    "print(len(embeddings))"
   ]
  },
  {
   "cell_type": "code",
   "execution_count": 5,
   "metadata": {},
   "outputs": [
    {
     "name": "stdout",
     "output_type": "stream",
     "text": [
      "[-0.041976142674684525, 0.02179075963795185, -0.03246307745575905, 0.010755044408142567, -0.018823569640517235]\n"
     ]
    }
   ],
   "source": [
    "print(embeddings[:5])"
   ]
  },
  {
   "cell_type": "code",
   "execution_count": 10,
   "metadata": {},
   "outputs": [],
   "source": [
    "text1 = 'พระนครศรีอยุธยา เป็นจังหวัดหนึ่งในภาคกลางและเป็นเขตเศรษฐกิจอุตสาหกรรมที่สำคัญ โดยมีผลิตภัณฑ์มวลรวมของจังหวัดมีมูลค่าสูงเป็นอันดับ 3 ของประเทศ[3] และมีประวัติศาสตร์ความเป็นมาที่ยาวนาน เคยมีชื่อเสียงเป็นแหล่งปลูกข้าวที่สำคัญ จังหวัดพระนครศรีอยุธยาเป็นจังหวัดเดียวในประเทศไทยที่ไม่มีอำเภอเมือง แต่มี อำเภอพระนครศรีอยุธยา เป็นศูนย์กลางการบริหารจัดการด้านต่าง ๆ ชาวบ้านโดยทั่วไปนิยมเรียกอีกชื่อว่า \"กรุงเก่า\" หรือ \"เมืองกรุงเก่า\" ห่างจากกรุงเทพมหานครประมาณ 75 กิโลเมตร'\n",
    "text2 = 'ประวัติศาสตร์ บทความหลัก: อาณาจักรอยุธยากรุงศรีอยุธยา (พ.ศ. 2209) วาดโดยบริษัทอินเดียตะวันออกของเนเธอร์แลนด์พระนครศรีอยุธยาเคยเป็นราชธานี (เมืองหลวง) ของอาณาจักรอยุธยา หรืออาณาจักรสยาม ตลอดระยะเวลา 417 ปี ตั้งแต่ พ.ศ. 1893 กระทั่งเสียกรุงแก่พม่า เมื่อ พ.ศ. 2310 ครั้นเมื่อพระเจ้าตากสินมหาราชทรงสถาปนาราชธานีแห่งใหม่ที่กรุงธนบุรี กรุงศรีอยุธยาก็ไม่ได้กลายเป็นเมืองร้าง ยังมีคนที่รักถิ่นฐานบ้านเดิมอาศัยอยู่และมีราษฎรที่หลบหนีไปอยู่ตามป่ากลับเข้ามาอาศัยอยู่รอบ ๆ เมือง รวมกันเข้าเป็นเมือง จนทางการยกเป็นเมืองจัตวาเรียกว่า \"เมืองกรุงเก่า\"'\n",
    "text3 = 'เมื่อ พ.ศ. 2325 ในรัชสมัยพระบาทสมเด็จพระพุทธยอดฟ้าจุฬาโลกมหาราช ทรงยกเมืองกรุงเก่าขึ้นเป็น หัวเมืองจัตวา เช่นเดียวกับในสมัยกรุงธนบุรี หลังจากนั้น พระบาทสมเด็จพระจุลจอมเกล้าเจ้าอยู่หัวโปรดให้จัดการปฏิรูปการปกครองทั้งส่วนกลางและส่วนภูมิภาค โดยการปกครองส่วนภูมิภาคนั้น โปรดให้จัดการปกครองแบบเทศาภิบาลขึ้น โดยให้รวมเมืองที่อยู่ใกล้เคียงกัน 3-4 เมือง ขึ้นเป็นมณฑล มีข้าหลวงเทศาภิบาลเป็นผู้ปกครอง โดยในปี พ.ศ. 2438 โปรดให้จัดตั้งมณฑลกรุงเก่าขึ้น ประกอบด้วยหัวเมืองต่าง ๆ คือ กรุงเก่าหรืออยุธยา อ่างทอง สระบุรี พระพุทธบาท ลพบุรี พรหมบุรี อินทร์บุรี และสิงห์บุรี'\n",
    "text4 = 'ต่อมาทรงพระกรุณาโปรดเกล้าฯ ให้รวมเมืองอินทร์บุรีและเมืองพรหมบุรีเข้ากับเมืองสิงห์บุรี รวมเมืองพระพุทธบาทเข้ากับเมืองสระบุรี ตั้งที่ว่าการมณฑลที่อยุธยา และในปี พ.ศ. 2469 เปลี่ยนชื่อจาก \"มณฑลกรุงเก่า\" เป็น \"มณฑลอยุธยา\" ซึ่งจากการจัดตั้งมณฑลอยุธยามีผลให้อยุธยามีความสำคัญทางการบริหารการปกครองมากขึ้น การสร้างสิ่งสาธารณูปโภคหลายอย่างมีผลต่อการพัฒนาเมืองอยุธยาในเวลาต่อมา จนเมื่อยกเลิกการปกครองระบบมณฑลเทศาภิบาล ภายหลังการเปลี่ยนแปลงการปกครอง พ.ศ. 2475 อยุธยาจึงเปลี่ยนฐานะเป็นจังหวัดพระนครศรีอยุธยาจนถึงปัจจุบัน'"
   ]
  },
  {
   "cell_type": "code",
   "execution_count": 12,
   "metadata": {},
   "outputs": [],
   "source": [
    "text1_emb = embed_model.get_text_embedding(text1)\n",
    "text2_emb = embed_model.get_text_embedding(text2)\n",
    "text3_emb = embed_model.get_text_embedding(text3)\n",
    "text4_emb = embed_model.get_text_embedding(text4)"
   ]
  },
  {
   "cell_type": "code",
   "execution_count": 13,
   "metadata": {},
   "outputs": [
    {
     "name": "stdout",
     "output_type": "stream",
     "text": [
      "[0.005539661273360252, 0.015187489800155163, -0.01164360623806715, -0.01728619821369648, -0.021985329687595367]\n",
      "[0.01168364193290472, 0.04119976609945297, -0.00417240709066391, -0.02726016566157341, -0.03603764623403549]\n",
      "[0.031089192256331444, 0.04272811487317085, -0.00500113982707262, 0.0019403527257964015, -0.01635820046067238]\n",
      "[0.021662477403879166, 0.04273651912808418, 0.01920708455145359, 0.007724749855697155, -0.007433386519551277]\n"
     ]
    }
   ],
   "source": [
    "print(text1_emb[:5])\n",
    "print(text2_emb[:5])\n",
    "print(text3_emb[:5])\n",
    "print(text4_emb[:5])"
   ]
  },
  {
   "cell_type": "code",
   "execution_count": 14,
   "metadata": {},
   "outputs": [],
   "source": [
    "all_text_emb = embed_model.get_text_embedding(text1+text2+text3+text4)"
   ]
  },
  {
   "cell_type": "code",
   "execution_count": 15,
   "metadata": {},
   "outputs": [
    {
     "name": "stdout",
     "output_type": "stream",
     "text": [
      "[0.016539733856916428, 0.03937997296452522, -0.010712525807321072, -0.02129676751792431, -0.025445323437452316]\n"
     ]
    }
   ],
   "source": [
    "print(all_text_emb[:5])\n"
   ]
  },
  {
   "cell_type": "code",
   "execution_count": null,
   "metadata": {},
   "outputs": [],
   "source": []
  }
 ],
 "metadata": {
  "kernelspec": {
   "display_name": "Python 3",
   "language": "python",
   "name": "python3"
  },
  "language_info": {
   "codemirror_mode": {
    "name": "ipython",
    "version": 3
   },
   "file_extension": ".py",
   "mimetype": "text/x-python",
   "name": "python",
   "nbconvert_exporter": "python",
   "pygments_lexer": "ipython3",
   "version": "3.10.12"
  }
 },
 "nbformat": 4,
 "nbformat_minor": 2
}

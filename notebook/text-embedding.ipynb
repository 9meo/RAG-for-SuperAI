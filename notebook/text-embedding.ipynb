{
 "cells": [
  {
   "cell_type": "code",
   "execution_count": null,
   "metadata": {},
   "outputs": [],
   "source": [
    "# %pip install llama-index-embeddings-huggingface\n",
    "# %pip install llama-index-embeddings-instructor\n",
    "# %pip install llama-index"
   ]
  },
  {
   "cell_type": "code",
   "execution_count": 1,
   "metadata": {},
   "outputs": [],
   "source": [
    "from llama_index.embeddings.huggingface import HuggingFaceEmbedding"
   ]
  },
  {
   "cell_type": "code",
   "execution_count": 2,
   "metadata": {},
   "outputs": [
    {
     "data": {
      "application/vnd.jupyter.widget-view+json": {
       "model_id": "1b0d21d6ec524175b4b348416c47dc4c",
       "version_major": 2,
       "version_minor": 0
      },
      "text/plain": [
       "config.json:   0%|          | 0.00/687 [00:00<?, ?B/s]"
      ]
     },
     "metadata": {},
     "output_type": "display_data"
    },
    {
     "data": {
      "application/vnd.jupyter.widget-view+json": {
       "model_id": "5febcc7d8e904903b6cc00bc5d9e532a",
       "version_major": 2,
       "version_minor": 0
      },
      "text/plain": [
       "pytorch_model.bin:   0%|          | 0.00/2.27G [00:00<?, ?B/s]"
      ]
     },
     "metadata": {},
     "output_type": "display_data"
    },
    {
     "data": {
      "application/vnd.jupyter.widget-view+json": {
       "model_id": "2a22d1445e504b99b5faa7ef1bbe13ae",
       "version_major": 2,
       "version_minor": 0
      },
      "text/plain": [
       "tokenizer_config.json:   0%|          | 0.00/444 [00:00<?, ?B/s]"
      ]
     },
     "metadata": {},
     "output_type": "display_data"
    },
    {
     "data": {
      "application/vnd.jupyter.widget-view+json": {
       "model_id": "fcb97cfa930643bfaa7cc1eede18c5b4",
       "version_major": 2,
       "version_minor": 0
      },
      "text/plain": [
       "sentencepiece.bpe.model:   0%|          | 0.00/5.07M [00:00<?, ?B/s]"
      ]
     },
     "metadata": {},
     "output_type": "display_data"
    },
    {
     "data": {
      "application/vnd.jupyter.widget-view+json": {
       "model_id": "af9daaa004ba4d848f7c7d78383b9b58",
       "version_major": 2,
       "version_minor": 0
      },
      "text/plain": [
       "tokenizer.json:   0%|          | 0.00/17.1M [00:00<?, ?B/s]"
      ]
     },
     "metadata": {},
     "output_type": "display_data"
    },
    {
     "data": {
      "application/vnd.jupyter.widget-view+json": {
       "model_id": "926e348cbe764b1c8a686df1a08d97ae",
       "version_major": 2,
       "version_minor": 0
      },
      "text/plain": [
       "special_tokens_map.json:   0%|          | 0.00/964 [00:00<?, ?B/s]"
      ]
     },
     "metadata": {},
     "output_type": "display_data"
    }
   ],
   "source": [
    "embedding_model_name = 'BAAI/bge-m3'\n",
    "# embedding_model_name = 'kornwtp/simcse-model-phayathaibert'\n",
    "embed_model = HuggingFaceEmbedding(model_name=embedding_model_name,max_length=1024, device='cpu')"
   ]
  },
  {
   "cell_type": "code",
   "execution_count": 4,
   "metadata": {},
   "outputs": [
    {
     "name": "stdout",
     "output_type": "stream",
     "text": [
      "1024\n"
     ]
    }
   ],
   "source": [
    "embeddings = embed_model.get_text_embedding(\"Hello World!\")\n",
    "print(len(embeddings))"
   ]
  },
  {
   "cell_type": "code",
   "execution_count": 5,
   "metadata": {},
   "outputs": [
    {
     "name": "stdout",
     "output_type": "stream",
     "text": [
      "[-0.041976142674684525, 0.02179075963795185, -0.03246307745575905, 0.010755044408142567, -0.018823569640517235]\n"
     ]
    }
   ],
   "source": [
    "print(embeddings[:5])"
   ]
  },
  {
   "cell_type": "code",
   "execution_count": 10,
   "metadata": {},
   "outputs": [],
   "source": [
    "text1 = 'พระนครศรีอยุธยา เป็นจังหวัดหนึ่งในภาคกลางและเป็นเขตเศรษฐกิจอุตสาหกรรมที่สำคัญ โดยมีผลิตภัณฑ์มวลรวมของจังหวัดมีมูลค่าสูงเป็นอันดับ 3 ของประเทศ[3] และมีประวัติศาสตร์ความเป็นมาที่ยาวนาน เคยมีชื่อเสียงเป็นแหล่งปลูกข้าวที่สำคัญ จังหวัดพระนครศรีอยุธยาเป็นจังหวัดเดียวในประเทศไทยที่ไม่มีอำเภอเมือง แต่มี อำเภอพระนครศรีอยุธยา เป็นศูนย์กลางการบริหารจัดการด้านต่าง ๆ ชาวบ้านโดยทั่วไปนิยมเรียกอีกชื่อว่า \"กรุงเก่า\" หรือ \"เมืองกรุงเก่า\" ห่างจากกรุงเทพมหานครประมาณ 75 กิโลเมตร'\n",
    "text2 = 'ประวัติศาสตร์ บทความหลัก: อาณาจักรอยุธยากรุงศรีอยุธยา (พ.ศ. 2209) วาดโดยบริษัทอินเดียตะวันออกของเนเธอร์แลนด์พระนครศรีอยุธยาเคยเป็นราชธานี (เมืองหลวง) ของอาณาจักรอยุธยา หรืออาณาจักรสยาม ตลอดระยะเวลา 417 ปี ตั้งแต่ พ.ศ. 1893 กระทั่งเสียกรุงแก่พม่า เมื่อ พ.ศ. 2310 ครั้นเมื่อพระเจ้าตากสินมหาราชทรงสถาปนาราชธานีแห่งใหม่ที่กรุงธนบุรี กรุงศรีอยุธยาก็ไม่ได้กลายเป็นเมืองร้าง ยังมีคนที่รักถิ่นฐานบ้านเดิมอาศัยอยู่และมีราษฎรที่หลบหนีไปอยู่ตามป่ากลับเข้ามาอาศัยอยู่รอบ ๆ เมือง รวมกันเข้าเป็นเมือง จนทางการยกเป็นเมืองจัตวาเรียกว่า \"เมืองกรุงเก่า\"'\n",
    "text3 = 'เมื่อ พ.ศ. 2325 ในรัชสมัยพระบาทสมเด็จพระพุทธยอดฟ้าจุฬาโลกมหาราช ทรงยกเมืองกรุงเก่าขึ้นเป็น หัวเมืองจัตวา เช่นเดียวกับในสมัยกรุงธนบุรี หลังจากนั้น พระบาทสมเด็จพระจุลจอมเกล้าเจ้าอยู่หัวโปรดให้จัดการปฏิรูปการปกครองทั้งส่วนกลางและส่วนภูมิภาค โดยการปกครองส่วนภูมิภาคนั้น โปรดให้จัดการปกครองแบบเทศาภิบาลขึ้น โดยให้รวมเมืองที่อยู่ใกล้เคียงกัน 3-4 เมือง ขึ้นเป็นมณฑล มีข้าหลวงเทศาภิบาลเป็นผู้ปกครอง โดยในปี พ.ศ. 2438 โปรดให้จัดตั้งมณฑลกรุงเก่าขึ้น ประกอบด้วยหัวเมืองต่าง ๆ คือ กรุงเก่าหรืออยุธยา อ่างทอง สระบุรี พระพุทธบาท ลพบุรี พรหมบุรี อินทร์บุรี และสิงห์บุรี'\n",
    "text4 = 'ต่อมาทรงพระกรุณาโปรดเกล้าฯ ให้รวมเมืองอินทร์บุรีและเมืองพรหมบุรีเข้ากับเมืองสิงห์บุรี รวมเมืองพระพุทธบาทเข้ากับเมืองสระบุรี ตั้งที่ว่าการมณฑลที่อยุธยา และในปี พ.ศ. 2469 เปลี่ยนชื่อจาก \"มณฑลกรุงเก่า\" เป็น \"มณฑลอยุธยา\" ซึ่งจากการจัดตั้งมณฑลอยุธยามีผลให้อยุธยามีความสำคัญทางการบริหารการปกครองมากขึ้น การสร้างสิ่งสาธารณูปโภคหลายอย่างมีผลต่อการพัฒนาเมืองอยุธยาในเวลาต่อมา จนเมื่อยกเลิกการปกครองระบบมณฑลเทศาภิบาล ภายหลังการเปลี่ยนแปลงการปกครอง พ.ศ. 2475 อยุธยาจึงเปลี่ยนฐานะเป็นจังหวัดพระนครศรีอยุธยาจนถึงปัจจุบัน'"
   ]
  },
  {
   "cell_type": "code",
   "execution_count": 12,
   "metadata": {},
   "outputs": [],
   "source": [
    "text1_emb = embed_model.get_text_embedding(text1)\n",
    "text2_emb = embed_model.get_text_embedding(text2)\n",
    "text3_emb = embed_model.get_text_embedding(text3)\n",
    "text4_emb = embed_model.get_text_embedding(text4)"
   ]
  },
  {
   "cell_type": "code",
   "execution_count": 13,
   "metadata": {},
   "outputs": [
    {
     "name": "stdout",
     "output_type": "stream",
     "text": [
      "[0.005539661273360252, 0.015187489800155163, -0.01164360623806715, -0.01728619821369648, -0.021985329687595367]\n",
      "[0.01168364193290472, 0.04119976609945297, -0.00417240709066391, -0.02726016566157341, -0.03603764623403549]\n",
      "[0.031089192256331444, 0.04272811487317085, -0.00500113982707262, 0.0019403527257964015, -0.01635820046067238]\n",
      "[0.021662477403879166, 0.04273651912808418, 0.01920708455145359, 0.007724749855697155, -0.007433386519551277]\n"
     ]
    }
   ],
   "source": [
    "print(text1_emb[:5])\n",
    "print(text2_emb[:5])\n",
    "print(text3_emb[:5])\n",
    "print(text4_emb[:5])"
   ]
  },
  {
   "cell_type": "code",
   "execution_count": 14,
   "metadata": {},
   "outputs": [],
   "source": [
    "all_text_emb = embed_model.get_text_embedding(text1+text2+text3+text4)"
   ]
  },
  {
   "cell_type": "code",
   "execution_count": 15,
   "metadata": {},
   "outputs": [
    {
     "name": "stdout",
     "output_type": "stream",
     "text": [
      "[0.016539733856916428, 0.03937997296452522, -0.010712525807321072, -0.02129676751792431, -0.025445323437452316]\n"
     ]
    }
   ],
   "source": [
    "print(all_text_emb[:5])\n"
   ]
  },
  {
   "cell_type": "markdown",
   "metadata": {},
   "source": [
    "The TokenTextSplitter attempts to split to a consistent chunk size according to raw token counts."
   ]
  },
  {
   "cell_type": "code",
   "execution_count": 20,
   "metadata": {},
   "outputs": [],
   "source": [
    "from llama_index.core.node_parser import TokenTextSplitter\n",
    "splitter = TokenTextSplitter(\n",
    "    chunk_size=100,\n",
    "    chunk_overlap=50,\n",
    "    separator=\" \",\n",
    ")"
   ]
  },
  {
   "cell_type": "code",
   "execution_count": 21,
   "metadata": {},
   "outputs": [],
   "source": [
    "from llama_index.core import Document"
   ]
  },
  {
   "cell_type": "code",
   "execution_count": 22,
   "metadata": {},
   "outputs": [
    {
     "data": {
      "application/vnd.jupyter.widget-view+json": {
       "model_id": "b4aaf3538c964dfd8c591e98949da2f0",
       "version_major": 2,
       "version_minor": 0
      },
      "text/plain": [
       "Parsing nodes:   0%|          | 0/1 [00:00<?, ?it/s]"
      ]
     },
     "metadata": {},
     "output_type": "display_data"
    }
   ],
   "source": [
    "nodes = splitter.get_nodes_from_documents(\n",
    "    [Document(text=text1+text2+text3+text4)], show_progress=True\n",
    ")"
   ]
  },
  {
   "cell_type": "code",
   "execution_count": 23,
   "metadata": {},
   "outputs": [
    {
     "data": {
      "text/plain": [
       "[TextNode(id_='99f299cc-498f-413d-9319-9e13b7404c50', embedding=None, metadata={}, excluded_embed_metadata_keys=[], excluded_llm_metadata_keys=[], relationships={<NodeRelationship.SOURCE: '1'>: RelatedNodeInfo(node_id='e3254bee-4e69-4db6-885c-f949dd707c40', node_type=<ObjectType.DOCUMENT: '4'>, metadata={}, hash='28f6adc6de03f540df96fa0fec027a796747235831202c9981e5b9523629f427'), <NodeRelationship.NEXT: '3'>: RelatedNodeInfo(node_id='0e3fe2a0-5166-4438-b045-11d72ef9626b', node_type=<ObjectType.TEXT: '1'>, metadata={}, hash='5096d5b3f7acf21602391c6a2e5890dd1d818b1e9a7ad3056e9f621b15deb29b')}, text='พระนครศรีอยุธยา เป็นจังหวัดหนึ่งในภาคกลางและเป็นเขตเศรษฐกิจอุตสาหกรรมที่สำคัญ', start_char_idx=0, end_char_idx=77, text_template='{metadata_str}\\n\\n{content}', metadata_template='{key}: {value}', metadata_seperator='\\n'),\n",
       " TextNode(id_='0e3fe2a0-5166-4438-b045-11d72ef9626b', embedding=None, metadata={}, excluded_embed_metadata_keys=[], excluded_llm_metadata_keys=[], relationships={<NodeRelationship.SOURCE: '1'>: RelatedNodeInfo(node_id='e3254bee-4e69-4db6-885c-f949dd707c40', node_type=<ObjectType.DOCUMENT: '4'>, metadata={}, hash='28f6adc6de03f540df96fa0fec027a796747235831202c9981e5b9523629f427'), <NodeRelationship.PREVIOUS: '2'>: RelatedNodeInfo(node_id='99f299cc-498f-413d-9319-9e13b7404c50', node_type=<ObjectType.TEXT: '1'>, metadata={}, hash='9514f0aafc7568c0c7f3ad93b211c5e665de840867a97457cba1ea1887fae18a'), <NodeRelationship.NEXT: '3'>: RelatedNodeInfo(node_id='cdd8a067-05f9-4419-a6b0-d925c912adcd', node_type=<ObjectType.TEXT: '1'>, metadata={}, hash='6c0bd6f14d849e3163d205f9327cb2ef622aa55d5c8332788f9292d2ee5c1387')}, text='โดยมีผลิตภัณฑ์มวลรวมของจังหวัดมีมูลค่าสูงเป็นอันดับ 3 ของประเทศ[3]', start_char_idx=78, end_char_idx=144, text_template='{metadata_str}\\n\\n{content}', metadata_template='{key}: {value}', metadata_seperator='\\n'),\n",
       " TextNode(id_='cdd8a067-05f9-4419-a6b0-d925c912adcd', embedding=None, metadata={}, excluded_embed_metadata_keys=[], excluded_llm_metadata_keys=[], relationships={<NodeRelationship.SOURCE: '1'>: RelatedNodeInfo(node_id='e3254bee-4e69-4db6-885c-f949dd707c40', node_type=<ObjectType.DOCUMENT: '4'>, metadata={}, hash='28f6adc6de03f540df96fa0fec027a796747235831202c9981e5b9523629f427'), <NodeRelationship.PREVIOUS: '2'>: RelatedNodeInfo(node_id='0e3fe2a0-5166-4438-b045-11d72ef9626b', node_type=<ObjectType.TEXT: '1'>, metadata={}, hash='5096d5b3f7acf21602391c6a2e5890dd1d818b1e9a7ad3056e9f621b15deb29b'), <NodeRelationship.NEXT: '3'>: RelatedNodeInfo(node_id='a2c43e4a-83d9-4954-8672-773d80e4d5ec', node_type=<ObjectType.TEXT: '1'>, metadata={}, hash='7b4c98aebc0c7a8c2b71094bbbde62cbba5d88a6c0bbff5341e362d49a7d140b')}, text='3 ของประเทศ[3] และมีประวัติศาสตร์ความเป็นมาที่ยาวนาน เคยมีชื่อเสียงเป็นแหล่งปลูกข้าวที่สำคัญ', start_char_idx=130, end_char_idx=222, text_template='{metadata_str}\\n\\n{content}', metadata_template='{key}: {value}', metadata_seperator='\\n'),\n",
       " TextNode(id_='a2c43e4a-83d9-4954-8672-773d80e4d5ec', embedding=None, metadata={}, excluded_embed_metadata_keys=[], excluded_llm_metadata_keys=[], relationships={<NodeRelationship.SOURCE: '1'>: RelatedNodeInfo(node_id='e3254bee-4e69-4db6-885c-f949dd707c40', node_type=<ObjectType.DOCUMENT: '4'>, metadata={}, hash='28f6adc6de03f540df96fa0fec027a796747235831202c9981e5b9523629f427'), <NodeRelationship.PREVIOUS: '2'>: RelatedNodeInfo(node_id='cdd8a067-05f9-4419-a6b0-d925c912adcd', node_type=<ObjectType.TEXT: '1'>, metadata={}, hash='6c0bd6f14d849e3163d205f9327cb2ef622aa55d5c8332788f9292d2ee5c1387'), <NodeRelationship.NEXT: '3'>: RelatedNodeInfo(node_id='76624a4a-ecba-43f0-9e5e-99126bf1f7eb', node_type=<ObjectType.TEXT: '1'>, metadata={}, hash='c4c8db7d4e522bba5dc221949b507d57b1f6c8f23a33c6e8bdc6ed49a56cf7ca')}, text='จังหวัดพระนครศรีอยุธยาเป็นจังหวัดเดียวในประเทศไทยที่ไม่มีอำเภอเมือง แต่มี อำเภอพระนครศรีอยุธยา', start_char_idx=223, end_char_idx=317, text_template='{metadata_str}\\n\\n{content}', metadata_template='{key}: {value}', metadata_seperator='\\n'),\n",
       " TextNode(id_='76624a4a-ecba-43f0-9e5e-99126bf1f7eb', embedding=None, metadata={}, excluded_embed_metadata_keys=[], excluded_llm_metadata_keys=[], relationships={<NodeRelationship.SOURCE: '1'>: RelatedNodeInfo(node_id='e3254bee-4e69-4db6-885c-f949dd707c40', node_type=<ObjectType.DOCUMENT: '4'>, metadata={}, hash='28f6adc6de03f540df96fa0fec027a796747235831202c9981e5b9523629f427'), <NodeRelationship.PREVIOUS: '2'>: RelatedNodeInfo(node_id='a2c43e4a-83d9-4954-8672-773d80e4d5ec', node_type=<ObjectType.TEXT: '1'>, metadata={}, hash='7b4c98aebc0c7a8c2b71094bbbde62cbba5d88a6c0bbff5341e362d49a7d140b'), <NodeRelationship.NEXT: '3'>: RelatedNodeInfo(node_id='e7f90c92-aaf1-4673-aa73-3018d2bdd105', node_type=<ObjectType.TEXT: '1'>, metadata={}, hash='03c066455b15d68db2a6d64d6c3cc2ec087d5c44b607929b92daaa22d7f5750d')}, text='แต่มี อำเภอพระนครศรีอยุธยา เป็นศูนย์กลางการบริหารจัดการด้านต่าง ๆ ชาวบ้านโดยทั่วไปนิยมเรียกอีกชื่อว่า', start_char_idx=291, end_char_idx=392, text_template='{metadata_str}\\n\\n{content}', metadata_template='{key}: {value}', metadata_seperator='\\n'),\n",
       " TextNode(id_='e7f90c92-aaf1-4673-aa73-3018d2bdd105', embedding=None, metadata={}, excluded_embed_metadata_keys=[], excluded_llm_metadata_keys=[], relationships={<NodeRelationship.SOURCE: '1'>: RelatedNodeInfo(node_id='e3254bee-4e69-4db6-885c-f949dd707c40', node_type=<ObjectType.DOCUMENT: '4'>, metadata={}, hash='28f6adc6de03f540df96fa0fec027a796747235831202c9981e5b9523629f427'), <NodeRelationship.PREVIOUS: '2'>: RelatedNodeInfo(node_id='76624a4a-ecba-43f0-9e5e-99126bf1f7eb', node_type=<ObjectType.TEXT: '1'>, metadata={}, hash='c4c8db7d4e522bba5dc221949b507d57b1f6c8f23a33c6e8bdc6ed49a56cf7ca'), <NodeRelationship.NEXT: '3'>: RelatedNodeInfo(node_id='26c7292e-a103-4694-93d9-72181f9a03c1', node_type=<ObjectType.TEXT: '1'>, metadata={}, hash='23d345beaf4529e979b4b4305daa72b7a896403feaec78e8ea15415377bd2477')}, text='ๆ ชาวบ้านโดยทั่วไปนิยมเรียกอีกชื่อว่า \"กรุงเก่า\" หรือ \"เมืองกรุงเก่า\" ห่างจากกรุงเทพมหานครประมาณ 75', start_char_idx=355, end_char_idx=454, text_template='{metadata_str}\\n\\n{content}', metadata_template='{key}: {value}', metadata_seperator='\\n'),\n",
       " TextNode(id_='26c7292e-a103-4694-93d9-72181f9a03c1', embedding=None, metadata={}, excluded_embed_metadata_keys=[], excluded_llm_metadata_keys=[], relationships={<NodeRelationship.SOURCE: '1'>: RelatedNodeInfo(node_id='e3254bee-4e69-4db6-885c-f949dd707c40', node_type=<ObjectType.DOCUMENT: '4'>, metadata={}, hash='28f6adc6de03f540df96fa0fec027a796747235831202c9981e5b9523629f427'), <NodeRelationship.PREVIOUS: '2'>: RelatedNodeInfo(node_id='e7f90c92-aaf1-4673-aa73-3018d2bdd105', node_type=<ObjectType.TEXT: '1'>, metadata={}, hash='03c066455b15d68db2a6d64d6c3cc2ec087d5c44b607929b92daaa22d7f5750d'), <NodeRelationship.NEXT: '3'>: RelatedNodeInfo(node_id='ba9cdd9f-c4e8-418b-b1d9-d1337a41c9f7', node_type=<ObjectType.TEXT: '1'>, metadata={}, hash='d72784249ff091c5388aa353c9f98e94ee6677fda07143053d42154d04a819ed')}, text='หรือ \"เมืองกรุงเก่า\" ห่างจากกรุงเทพมหานครประมาณ 75 กิโลเมตรประวัติศาสตร์ บทความหลัก:', start_char_idx=404, end_char_idx=488, text_template='{metadata_str}\\n\\n{content}', metadata_template='{key}: {value}', metadata_seperator='\\n'),\n",
       " TextNode(id_='ba9cdd9f-c4e8-418b-b1d9-d1337a41c9f7', embedding=None, metadata={}, excluded_embed_metadata_keys=[], excluded_llm_metadata_keys=[], relationships={<NodeRelationship.SOURCE: '1'>: RelatedNodeInfo(node_id='e3254bee-4e69-4db6-885c-f949dd707c40', node_type=<ObjectType.DOCUMENT: '4'>, metadata={}, hash='28f6adc6de03f540df96fa0fec027a796747235831202c9981e5b9523629f427'), <NodeRelationship.PREVIOUS: '2'>: RelatedNodeInfo(node_id='26c7292e-a103-4694-93d9-72181f9a03c1', node_type=<ObjectType.TEXT: '1'>, metadata={}, hash='23d345beaf4529e979b4b4305daa72b7a896403feaec78e8ea15415377bd2477'), <NodeRelationship.NEXT: '3'>: RelatedNodeInfo(node_id='5462a850-2132-4e90-9313-b8f091beccc6', node_type=<ObjectType.TEXT: '1'>, metadata={}, hash='8d94543dcb48130dfbce129056a897be9505941c144233e19747ae08d97152cf')}, text='75 กิโลเมตรประวัติศาสตร์ บทความหลัก: อาณาจักรอยุธยากรุงศรีอยุธยา (พ.ศ. 2209)', start_char_idx=452, end_char_idx=528, text_template='{metadata_str}\\n\\n{content}', metadata_template='{key}: {value}', metadata_seperator='\\n'),\n",
       " TextNode(id_='5462a850-2132-4e90-9313-b8f091beccc6', embedding=None, metadata={}, excluded_embed_metadata_keys=[], excluded_llm_metadata_keys=[], relationships={<NodeRelationship.SOURCE: '1'>: RelatedNodeInfo(node_id='e3254bee-4e69-4db6-885c-f949dd707c40', node_type=<ObjectType.DOCUMENT: '4'>, metadata={}, hash='28f6adc6de03f540df96fa0fec027a796747235831202c9981e5b9523629f427'), <NodeRelationship.PREVIOUS: '2'>: RelatedNodeInfo(node_id='ba9cdd9f-c4e8-418b-b1d9-d1337a41c9f7', node_type=<ObjectType.TEXT: '1'>, metadata={}, hash='d72784249ff091c5388aa353c9f98e94ee6677fda07143053d42154d04a819ed'), <NodeRelationship.NEXT: '3'>: RelatedNodeInfo(node_id='435011ac-c933-4a22-87c4-f37c6841cc8b', node_type=<ObjectType.TEXT: '1'>, metadata={}, hash='0f54f100278cdf33907eacb2fc197d6d46ee93993a590f217f5e6c5bfd161aec')}, text='(พ.ศ. 2209) วาดโดยบริษัทอินเดียตะวันออกของเนเธอร์แลนด์พระนครศรีอยุธยาเคยเป็นราชธานี (เมืองหลวง)', start_char_idx=517, end_char_idx=612, text_template='{metadata_str}\\n\\n{content}', metadata_template='{key}: {value}', metadata_seperator='\\n'),\n",
       " TextNode(id_='435011ac-c933-4a22-87c4-f37c6841cc8b', embedding=None, metadata={}, excluded_embed_metadata_keys=[], excluded_llm_metadata_keys=[], relationships={<NodeRelationship.SOURCE: '1'>: RelatedNodeInfo(node_id='e3254bee-4e69-4db6-885c-f949dd707c40', node_type=<ObjectType.DOCUMENT: '4'>, metadata={}, hash='28f6adc6de03f540df96fa0fec027a796747235831202c9981e5b9523629f427'), <NodeRelationship.PREVIOUS: '2'>: RelatedNodeInfo(node_id='5462a850-2132-4e90-9313-b8f091beccc6', node_type=<ObjectType.TEXT: '1'>, metadata={}, hash='8d94543dcb48130dfbce129056a897be9505941c144233e19747ae08d97152cf'), <NodeRelationship.NEXT: '3'>: RelatedNodeInfo(node_id='7d3130b5-bcec-4ba5-a797-68e1ffc9d418', node_type=<ObjectType.TEXT: '1'>, metadata={}, hash='4e2aa75929fd5e4089ef011b7d72e787a4445afbb555d6d325c2b5643ad0823c')}, text='(เมืองหลวง) ของอาณาจักรอยุธยา หรืออาณาจักรสยาม ตลอดระยะเวลา 417 ปี ตั้งแต่ พ.ศ. 1893 กระทั่งเสียกรุงแก่พม่า', start_char_idx=601, end_char_idx=708, text_template='{metadata_str}\\n\\n{content}', metadata_template='{key}: {value}', metadata_seperator='\\n'),\n",
       " TextNode(id_='7d3130b5-bcec-4ba5-a797-68e1ffc9d418', embedding=None, metadata={}, excluded_embed_metadata_keys=[], excluded_llm_metadata_keys=[], relationships={<NodeRelationship.SOURCE: '1'>: RelatedNodeInfo(node_id='e3254bee-4e69-4db6-885c-f949dd707c40', node_type=<ObjectType.DOCUMENT: '4'>, metadata={}, hash='28f6adc6de03f540df96fa0fec027a796747235831202c9981e5b9523629f427'), <NodeRelationship.PREVIOUS: '2'>: RelatedNodeInfo(node_id='435011ac-c933-4a22-87c4-f37c6841cc8b', node_type=<ObjectType.TEXT: '1'>, metadata={}, hash='0f54f100278cdf33907eacb2fc197d6d46ee93993a590f217f5e6c5bfd161aec'), <NodeRelationship.NEXT: '3'>: RelatedNodeInfo(node_id='5f23f4f0-29c6-4b1a-8c65-578ea5e454c3', node_type=<ObjectType.TEXT: '1'>, metadata={}, hash='9ccd42fd56f88f0738d45f52085eb86201f51da1766157148dd1bac2ec0acb5e')}, text='417 ปี ตั้งแต่ พ.ศ. 1893 กระทั่งเสียกรุงแก่พม่า เมื่อ พ.ศ. 2310', start_char_idx=661, end_char_idx=724, text_template='{metadata_str}\\n\\n{content}', metadata_template='{key}: {value}', metadata_seperator='\\n'),\n",
       " TextNode(id_='5f23f4f0-29c6-4b1a-8c65-578ea5e454c3', embedding=None, metadata={}, excluded_embed_metadata_keys=[], excluded_llm_metadata_keys=[], relationships={<NodeRelationship.SOURCE: '1'>: RelatedNodeInfo(node_id='e3254bee-4e69-4db6-885c-f949dd707c40', node_type=<ObjectType.DOCUMENT: '4'>, metadata={}, hash='28f6adc6de03f540df96fa0fec027a796747235831202c9981e5b9523629f427'), <NodeRelationship.PREVIOUS: '2'>: RelatedNodeInfo(node_id='7d3130b5-bcec-4ba5-a797-68e1ffc9d418', node_type=<ObjectType.TEXT: '1'>, metadata={}, hash='4e2aa75929fd5e4089ef011b7d72e787a4445afbb555d6d325c2b5643ad0823c'), <NodeRelationship.NEXT: '3'>: RelatedNodeInfo(node_id='16fbe38f-43ea-489b-9d0a-03b200b14432', node_type=<ObjectType.TEXT: '1'>, metadata={}, hash='b539d2d2f1c52d19b3ba45efc9c2b662ced3292cc1a5f0f82363a469fa706e7b')}, text='1893 กระทั่งเสียกรุงแก่พม่า เมื่อ พ.ศ. 2310 ครั้นเมื่อพระเจ้าตากสินมหาราชทรงสถาปนาราชธานีแห่งใหม่ที่กรุงธนบุรี', start_char_idx=681, end_char_idx=791, text_template='{metadata_str}\\n\\n{content}', metadata_template='{key}: {value}', metadata_seperator='\\n'),\n",
       " TextNode(id_='16fbe38f-43ea-489b-9d0a-03b200b14432', embedding=None, metadata={}, excluded_embed_metadata_keys=[], excluded_llm_metadata_keys=[], relationships={<NodeRelationship.SOURCE: '1'>: RelatedNodeInfo(node_id='e3254bee-4e69-4db6-885c-f949dd707c40', node_type=<ObjectType.DOCUMENT: '4'>, metadata={}, hash='28f6adc6de03f540df96fa0fec027a796747235831202c9981e5b9523629f427'), <NodeRelationship.PREVIOUS: '2'>: RelatedNodeInfo(node_id='5f23f4f0-29c6-4b1a-8c65-578ea5e454c3', node_type=<ObjectType.TEXT: '1'>, metadata={}, hash='9ccd42fd56f88f0738d45f52085eb86201f51da1766157148dd1bac2ec0acb5e'), <NodeRelationship.NEXT: '3'>: RelatedNodeInfo(node_id='3657c959-0bbd-4f7a-9f94-380f639e66e5', node_type=<ObjectType.TEXT: '1'>, metadata={}, hash='432144c55671ce855d4c3007ebc6314088e147b8b4d861cfeca55f12e3659b4c')}, text='กรุงศรีอยุธยาก็ไม่ได้กลายเป็นเมืองร้าง', start_char_idx=792, end_char_idx=830, text_template='{metadata_str}\\n\\n{content}', metadata_template='{key}: {value}', metadata_seperator='\\n'),\n",
       " TextNode(id_='3657c959-0bbd-4f7a-9f94-380f639e66e5', embedding=None, metadata={}, excluded_embed_metadata_keys=[], excluded_llm_metadata_keys=[], relationships={<NodeRelationship.SOURCE: '1'>: RelatedNodeInfo(node_id='e3254bee-4e69-4db6-885c-f949dd707c40', node_type=<ObjectType.DOCUMENT: '4'>, metadata={}, hash='28f6adc6de03f540df96fa0fec027a796747235831202c9981e5b9523629f427'), <NodeRelationship.PREVIOUS: '2'>: RelatedNodeInfo(node_id='16fbe38f-43ea-489b-9d0a-03b200b14432', node_type=<ObjectType.TEXT: '1'>, metadata={}, hash='b539d2d2f1c52d19b3ba45efc9c2b662ced3292cc1a5f0f82363a469fa706e7b'), <NodeRelationship.NEXT: '3'>: RelatedNodeInfo(node_id='f8e7ed8c-39b4-4e6e-ba6f-92c718471d46', node_type=<ObjectType.TEXT: '1'>, metadata={}, hash='fab5192e5fb34d45e46e072b26a66da85dd197a0a8dde75166aa113c7c241549')}, text='ยังมีคนที่รักถิ่นฐานบ้านเดิมอาศัยอยู่และมีราษฎรที่หลบหนีไปอยู่ตามป่ากลับเข้ามาอาศัยอยู่รอบ ๆ เมือง', start_char_idx=831, end_char_idx=929, text_template='{metadata_str}\\n\\n{content}', metadata_template='{key}: {value}', metadata_seperator='\\n'),\n",
       " TextNode(id_='f8e7ed8c-39b4-4e6e-ba6f-92c718471d46', embedding=None, metadata={}, excluded_embed_metadata_keys=[], excluded_llm_metadata_keys=[], relationships={<NodeRelationship.SOURCE: '1'>: RelatedNodeInfo(node_id='e3254bee-4e69-4db6-885c-f949dd707c40', node_type=<ObjectType.DOCUMENT: '4'>, metadata={}, hash='28f6adc6de03f540df96fa0fec027a796747235831202c9981e5b9523629f427'), <NodeRelationship.PREVIOUS: '2'>: RelatedNodeInfo(node_id='3657c959-0bbd-4f7a-9f94-380f639e66e5', node_type=<ObjectType.TEXT: '1'>, metadata={}, hash='432144c55671ce855d4c3007ebc6314088e147b8b4d861cfeca55f12e3659b4c'), <NodeRelationship.NEXT: '3'>: RelatedNodeInfo(node_id='3527aa5a-97f2-4472-b08f-4ee917fb7a74', node_type=<ObjectType.TEXT: '1'>, metadata={}, hash='ef92e2d2f19ababa2358a22ce4c291e1a33b991e6cb44f02450ff6d939103eb7')}, text='ๆ เมือง รวมกันเข้าเป็นเมือง จนทางการยกเป็นเมืองจัตวาเรียกว่า \"เมืองกรุงเก่า\"เมื่อ พ.ศ. 2325', start_char_idx=922, end_char_idx=1013, text_template='{metadata_str}\\n\\n{content}', metadata_template='{key}: {value}', metadata_seperator='\\n'),\n",
       " TextNode(id_='3527aa5a-97f2-4472-b08f-4ee917fb7a74', embedding=None, metadata={}, excluded_embed_metadata_keys=[], excluded_llm_metadata_keys=[], relationships={<NodeRelationship.SOURCE: '1'>: RelatedNodeInfo(node_id='e3254bee-4e69-4db6-885c-f949dd707c40', node_type=<ObjectType.DOCUMENT: '4'>, metadata={}, hash='28f6adc6de03f540df96fa0fec027a796747235831202c9981e5b9523629f427'), <NodeRelationship.PREVIOUS: '2'>: RelatedNodeInfo(node_id='f8e7ed8c-39b4-4e6e-ba6f-92c718471d46', node_type=<ObjectType.TEXT: '1'>, metadata={}, hash='fab5192e5fb34d45e46e072b26a66da85dd197a0a8dde75166aa113c7c241549'), <NodeRelationship.NEXT: '3'>: RelatedNodeInfo(node_id='37e90afe-4e1b-4257-8a55-a1bce36a3365', node_type=<ObjectType.TEXT: '1'>, metadata={}, hash='036ee80ee57d9c825ebfcb6a201fbcf463c2f22af26b32b4297224dd9e90940d')}, text='\"เมืองกรุงเก่า\"เมื่อ พ.ศ. 2325 ในรัชสมัยพระบาทสมเด็จพระพุทธยอดฟ้าจุฬาโลกมหาราช', start_char_idx=983, end_char_idx=1061, text_template='{metadata_str}\\n\\n{content}', metadata_template='{key}: {value}', metadata_seperator='\\n'),\n",
       " TextNode(id_='37e90afe-4e1b-4257-8a55-a1bce36a3365', embedding=None, metadata={}, excluded_embed_metadata_keys=[], excluded_llm_metadata_keys=[], relationships={<NodeRelationship.SOURCE: '1'>: RelatedNodeInfo(node_id='e3254bee-4e69-4db6-885c-f949dd707c40', node_type=<ObjectType.DOCUMENT: '4'>, metadata={}, hash='28f6adc6de03f540df96fa0fec027a796747235831202c9981e5b9523629f427'), <NodeRelationship.PREVIOUS: '2'>: RelatedNodeInfo(node_id='3527aa5a-97f2-4472-b08f-4ee917fb7a74', node_type=<ObjectType.TEXT: '1'>, metadata={}, hash='ef92e2d2f19ababa2358a22ce4c291e1a33b991e6cb44f02450ff6d939103eb7'), <NodeRelationship.NEXT: '3'>: RelatedNodeInfo(node_id='c1c70b86-e02e-46bf-a1a4-e017ee643446', node_type=<ObjectType.TEXT: '1'>, metadata={}, hash='14b4f655356fec0a4ecb0ae2390c1f6d5d42e2b625d58890d21ae67b9060bfea')}, text='ในรัชสมัยพระบาทสมเด็จพระพุทธยอดฟ้าจุฬาโลกมหาราช ทรงยกเมืองกรุงเก่าขึ้นเป็น หัวเมืองจัตวา', start_char_idx=1014, end_char_idx=1102, text_template='{metadata_str}\\n\\n{content}', metadata_template='{key}: {value}', metadata_seperator='\\n'),\n",
       " TextNode(id_='c1c70b86-e02e-46bf-a1a4-e017ee643446', embedding=None, metadata={}, excluded_embed_metadata_keys=[], excluded_llm_metadata_keys=[], relationships={<NodeRelationship.SOURCE: '1'>: RelatedNodeInfo(node_id='e3254bee-4e69-4db6-885c-f949dd707c40', node_type=<ObjectType.DOCUMENT: '4'>, metadata={}, hash='28f6adc6de03f540df96fa0fec027a796747235831202c9981e5b9523629f427'), <NodeRelationship.PREVIOUS: '2'>: RelatedNodeInfo(node_id='37e90afe-4e1b-4257-8a55-a1bce36a3365', node_type=<ObjectType.TEXT: '1'>, metadata={}, hash='036ee80ee57d9c825ebfcb6a201fbcf463c2f22af26b32b4297224dd9e90940d'), <NodeRelationship.NEXT: '3'>: RelatedNodeInfo(node_id='306c02a5-1dff-4c30-a5e2-a14c5a53520c', node_type=<ObjectType.TEXT: '1'>, metadata={}, hash='5c695968583674b39a56ed28095f374a79f8c97b81466b8a825fca85dfe1a5ec')}, text='ทรงยกเมืองกรุงเก่าขึ้นเป็น หัวเมืองจัตวา เช่นเดียวกับในสมัยกรุงธนบุรี หลังจากนั้น', start_char_idx=1062, end_char_idx=1143, text_template='{metadata_str}\\n\\n{content}', metadata_template='{key}: {value}', metadata_seperator='\\n'),\n",
       " TextNode(id_='306c02a5-1dff-4c30-a5e2-a14c5a53520c', embedding=None, metadata={}, excluded_embed_metadata_keys=[], excluded_llm_metadata_keys=[], relationships={<NodeRelationship.SOURCE: '1'>: RelatedNodeInfo(node_id='e3254bee-4e69-4db6-885c-f949dd707c40', node_type=<ObjectType.DOCUMENT: '4'>, metadata={}, hash='28f6adc6de03f540df96fa0fec027a796747235831202c9981e5b9523629f427'), <NodeRelationship.PREVIOUS: '2'>: RelatedNodeInfo(node_id='c1c70b86-e02e-46bf-a1a4-e017ee643446', node_type=<ObjectType.TEXT: '1'>, metadata={}, hash='14b4f655356fec0a4ecb0ae2390c1f6d5d42e2b625d58890d21ae67b9060bfea'), <NodeRelationship.NEXT: '3'>: RelatedNodeInfo(node_id='7ac808e9-4ded-4e29-9f7c-1cf190aa8723', node_type=<ObjectType.TEXT: '1'>, metadata={}, hash='5e4e0709b031491d983e9d277eb9ed3ba00bd4c8c7618992d55947337c0162c2')}, text='พระบาทสมเด็จพระจุลจอมเกล้าเจ้าอยู่หัวโปรดให้จัดการปฏิรูปการปกครองทั้งส่วนกลางและส่วนภูมิภาค', start_char_idx=1144, end_char_idx=1235, text_template='{metadata_str}\\n\\n{content}', metadata_template='{key}: {value}', metadata_seperator='\\n'),\n",
       " TextNode(id_='7ac808e9-4ded-4e29-9f7c-1cf190aa8723', embedding=None, metadata={}, excluded_embed_metadata_keys=[], excluded_llm_metadata_keys=[], relationships={<NodeRelationship.SOURCE: '1'>: RelatedNodeInfo(node_id='e3254bee-4e69-4db6-885c-f949dd707c40', node_type=<ObjectType.DOCUMENT: '4'>, metadata={}, hash='28f6adc6de03f540df96fa0fec027a796747235831202c9981e5b9523629f427'), <NodeRelationship.PREVIOUS: '2'>: RelatedNodeInfo(node_id='306c02a5-1dff-4c30-a5e2-a14c5a53520c', node_type=<ObjectType.TEXT: '1'>, metadata={}, hash='5c695968583674b39a56ed28095f374a79f8c97b81466b8a825fca85dfe1a5ec'), <NodeRelationship.NEXT: '3'>: RelatedNodeInfo(node_id='0bacea19-62a7-4280-aded-4bb44a259416', node_type=<ObjectType.TEXT: '1'>, metadata={}, hash='426a79a20d5d3f89d0c6dfbea64abcc306075cc01f82a29b399f8882edb4e875')}, text='โดยการปกครองส่วนภูมิภาคนั้น โปรดให้จัดการปกครองแบบเทศาภิบาลขึ้น โดยให้รวมเมืองที่อยู่ใกล้เคียงกัน', start_char_idx=1236, end_char_idx=1333, text_template='{metadata_str}\\n\\n{content}', metadata_template='{key}: {value}', metadata_seperator='\\n'),\n",
       " TextNode(id_='0bacea19-62a7-4280-aded-4bb44a259416', embedding=None, metadata={}, excluded_embed_metadata_keys=[], excluded_llm_metadata_keys=[], relationships={<NodeRelationship.SOURCE: '1'>: RelatedNodeInfo(node_id='e3254bee-4e69-4db6-885c-f949dd707c40', node_type=<ObjectType.DOCUMENT: '4'>, metadata={}, hash='28f6adc6de03f540df96fa0fec027a796747235831202c9981e5b9523629f427'), <NodeRelationship.PREVIOUS: '2'>: RelatedNodeInfo(node_id='7ac808e9-4ded-4e29-9f7c-1cf190aa8723', node_type=<ObjectType.TEXT: '1'>, metadata={}, hash='5e4e0709b031491d983e9d277eb9ed3ba00bd4c8c7618992d55947337c0162c2'), <NodeRelationship.NEXT: '3'>: RelatedNodeInfo(node_id='22066795-cf3d-40c4-84de-f71f7dee0d5c', node_type=<ObjectType.TEXT: '1'>, metadata={}, hash='dfd3cad74b170d71bd86f5884722c8e413ed3b572fec8dcad58194905bc6f9ae')}, text='โดยให้รวมเมืองที่อยู่ใกล้เคียงกัน 3-4 เมือง ขึ้นเป็นมณฑล มีข้าหลวงเทศาภิบาลเป็นผู้ปกครอง โดยในปี', start_char_idx=1300, end_char_idx=1396, text_template='{metadata_str}\\n\\n{content}', metadata_template='{key}: {value}', metadata_seperator='\\n'),\n",
       " TextNode(id_='22066795-cf3d-40c4-84de-f71f7dee0d5c', embedding=None, metadata={}, excluded_embed_metadata_keys=[], excluded_llm_metadata_keys=[], relationships={<NodeRelationship.SOURCE: '1'>: RelatedNodeInfo(node_id='e3254bee-4e69-4db6-885c-f949dd707c40', node_type=<ObjectType.DOCUMENT: '4'>, metadata={}, hash='28f6adc6de03f540df96fa0fec027a796747235831202c9981e5b9523629f427'), <NodeRelationship.PREVIOUS: '2'>: RelatedNodeInfo(node_id='0bacea19-62a7-4280-aded-4bb44a259416', node_type=<ObjectType.TEXT: '1'>, metadata={}, hash='426a79a20d5d3f89d0c6dfbea64abcc306075cc01f82a29b399f8882edb4e875'), <NodeRelationship.NEXT: '3'>: RelatedNodeInfo(node_id='a40b4775-d2f0-4349-8b24-04f466946fc2', node_type=<ObjectType.TEXT: '1'>, metadata={}, hash='d9a32e0118b40c4de21c6569931fe888388499656a397a43f7425f4e8e47d62b')}, text='มีข้าหลวงเทศาภิบาลเป็นผู้ปกครอง โดยในปี พ.ศ. 2438 โปรดให้จัดตั้งมณฑลกรุงเก่าขึ้น', start_char_idx=1357, end_char_idx=1437, text_template='{metadata_str}\\n\\n{content}', metadata_template='{key}: {value}', metadata_seperator='\\n'),\n",
       " TextNode(id_='a40b4775-d2f0-4349-8b24-04f466946fc2', embedding=None, metadata={}, excluded_embed_metadata_keys=[], excluded_llm_metadata_keys=[], relationships={<NodeRelationship.SOURCE: '1'>: RelatedNodeInfo(node_id='e3254bee-4e69-4db6-885c-f949dd707c40', node_type=<ObjectType.DOCUMENT: '4'>, metadata={}, hash='28f6adc6de03f540df96fa0fec027a796747235831202c9981e5b9523629f427'), <NodeRelationship.PREVIOUS: '2'>: RelatedNodeInfo(node_id='22066795-cf3d-40c4-84de-f71f7dee0d5c', node_type=<ObjectType.TEXT: '1'>, metadata={}, hash='dfd3cad74b170d71bd86f5884722c8e413ed3b572fec8dcad58194905bc6f9ae'), <NodeRelationship.NEXT: '3'>: RelatedNodeInfo(node_id='271269e8-c061-4891-ba1a-1a6a51b23c0d', node_type=<ObjectType.TEXT: '1'>, metadata={}, hash='05834db4a21d02f4a4d07188333976b372e30f4e0dc3362eebdbd86e8eaadc03')}, text='โดยในปี พ.ศ. 2438 โปรดให้จัดตั้งมณฑลกรุงเก่าขึ้น ประกอบด้วยหัวเมืองต่าง ๆ คือ กรุงเก่าหรืออยุธยา', start_char_idx=1389, end_char_idx=1485, text_template='{metadata_str}\\n\\n{content}', metadata_template='{key}: {value}', metadata_seperator='\\n'),\n",
       " TextNode(id_='271269e8-c061-4891-ba1a-1a6a51b23c0d', embedding=None, metadata={}, excluded_embed_metadata_keys=[], excluded_llm_metadata_keys=[], relationships={<NodeRelationship.SOURCE: '1'>: RelatedNodeInfo(node_id='e3254bee-4e69-4db6-885c-f949dd707c40', node_type=<ObjectType.DOCUMENT: '4'>, metadata={}, hash='28f6adc6de03f540df96fa0fec027a796747235831202c9981e5b9523629f427'), <NodeRelationship.PREVIOUS: '2'>: RelatedNodeInfo(node_id='a40b4775-d2f0-4349-8b24-04f466946fc2', node_type=<ObjectType.TEXT: '1'>, metadata={}, hash='d9a32e0118b40c4de21c6569931fe888388499656a397a43f7425f4e8e47d62b'), <NodeRelationship.NEXT: '3'>: RelatedNodeInfo(node_id='12a0084b-316f-4c4f-9d63-a798f90c609a', node_type=<ObjectType.TEXT: '1'>, metadata={}, hash='60178502b1ebe6d23ad74c6cc0238045110082927266e083d8abf41ce3e5677a')}, text='ประกอบด้วยหัวเมืองต่าง ๆ คือ กรุงเก่าหรืออยุธยา อ่างทอง สระบุรี พระพุทธบาท ลพบุรี พรหมบุรี อินทร์บุรี', start_char_idx=1438, end_char_idx=1539, text_template='{metadata_str}\\n\\n{content}', metadata_template='{key}: {value}', metadata_seperator='\\n'),\n",
       " TextNode(id_='12a0084b-316f-4c4f-9d63-a798f90c609a', embedding=None, metadata={}, excluded_embed_metadata_keys=[], excluded_llm_metadata_keys=[], relationships={<NodeRelationship.SOURCE: '1'>: RelatedNodeInfo(node_id='e3254bee-4e69-4db6-885c-f949dd707c40', node_type=<ObjectType.DOCUMENT: '4'>, metadata={}, hash='28f6adc6de03f540df96fa0fec027a796747235831202c9981e5b9523629f427'), <NodeRelationship.PREVIOUS: '2'>: RelatedNodeInfo(node_id='271269e8-c061-4891-ba1a-1a6a51b23c0d', node_type=<ObjectType.TEXT: '1'>, metadata={}, hash='05834db4a21d02f4a4d07188333976b372e30f4e0dc3362eebdbd86e8eaadc03'), <NodeRelationship.NEXT: '3'>: RelatedNodeInfo(node_id='b2fcfe38-4fc9-4bb5-b705-af520fb7bff3', node_type=<ObjectType.TEXT: '1'>, metadata={}, hash='88716160aa8366f6dc7b33f8240a19ce32fc821e637669c6c906bc6e4cc0a6b6')}, text='สระบุรี พระพุทธบาท ลพบุรี พรหมบุรี อินทร์บุรี และสิงห์บุรีต่อมาทรงพระกรุณาโปรดเกล้าฯ', start_char_idx=1494, end_char_idx=1578, text_template='{metadata_str}\\n\\n{content}', metadata_template='{key}: {value}', metadata_seperator='\\n'),\n",
       " TextNode(id_='b2fcfe38-4fc9-4bb5-b705-af520fb7bff3', embedding=None, metadata={}, excluded_embed_metadata_keys=[], excluded_llm_metadata_keys=[], relationships={<NodeRelationship.SOURCE: '1'>: RelatedNodeInfo(node_id='e3254bee-4e69-4db6-885c-f949dd707c40', node_type=<ObjectType.DOCUMENT: '4'>, metadata={}, hash='28f6adc6de03f540df96fa0fec027a796747235831202c9981e5b9523629f427'), <NodeRelationship.PREVIOUS: '2'>: RelatedNodeInfo(node_id='12a0084b-316f-4c4f-9d63-a798f90c609a', node_type=<ObjectType.TEXT: '1'>, metadata={}, hash='60178502b1ebe6d23ad74c6cc0238045110082927266e083d8abf41ce3e5677a'), <NodeRelationship.NEXT: '3'>: RelatedNodeInfo(node_id='dca6a760-5daa-43ab-9751-51ec554266d1', node_type=<ObjectType.TEXT: '1'>, metadata={}, hash='2ff7bd61e100b9440b04ff3a4ca9e853adbab64c3812fb5e36e33a9c17ea3879')}, text='และสิงห์บุรีต่อมาทรงพระกรุณาโปรดเกล้าฯ ให้รวมเมืองอินทร์บุรีและเมืองพรหมบุรีเข้ากับเมืองสิงห์บุรี', start_char_idx=1540, end_char_idx=1637, text_template='{metadata_str}\\n\\n{content}', metadata_template='{key}: {value}', metadata_seperator='\\n'),\n",
       " TextNode(id_='dca6a760-5daa-43ab-9751-51ec554266d1', embedding=None, metadata={}, excluded_embed_metadata_keys=[], excluded_llm_metadata_keys=[], relationships={<NodeRelationship.SOURCE: '1'>: RelatedNodeInfo(node_id='e3254bee-4e69-4db6-885c-f949dd707c40', node_type=<ObjectType.DOCUMENT: '4'>, metadata={}, hash='28f6adc6de03f540df96fa0fec027a796747235831202c9981e5b9523629f427'), <NodeRelationship.PREVIOUS: '2'>: RelatedNodeInfo(node_id='b2fcfe38-4fc9-4bb5-b705-af520fb7bff3', node_type=<ObjectType.TEXT: '1'>, metadata={}, hash='88716160aa8366f6dc7b33f8240a19ce32fc821e637669c6c906bc6e4cc0a6b6'), <NodeRelationship.NEXT: '3'>: RelatedNodeInfo(node_id='443be795-738f-4d3f-8b66-4b708e504b15', node_type=<ObjectType.TEXT: '1'>, metadata={}, hash='dad7cc27bf124e6a4b7a672b012130a9b875e6a3c866270ab38f788e33690452')}, text='รวมเมืองพระพุทธบาทเข้ากับเมืองสระบุรี ตั้งที่ว่าการมณฑลที่อยุธยา และในปี พ.ศ. 2469 เปลี่ยนชื่อจาก', start_char_idx=1638, end_char_idx=1735, text_template='{metadata_str}\\n\\n{content}', metadata_template='{key}: {value}', metadata_seperator='\\n'),\n",
       " TextNode(id_='443be795-738f-4d3f-8b66-4b708e504b15', embedding=None, metadata={}, excluded_embed_metadata_keys=[], excluded_llm_metadata_keys=[], relationships={<NodeRelationship.SOURCE: '1'>: RelatedNodeInfo(node_id='e3254bee-4e69-4db6-885c-f949dd707c40', node_type=<ObjectType.DOCUMENT: '4'>, metadata={}, hash='28f6adc6de03f540df96fa0fec027a796747235831202c9981e5b9523629f427'), <NodeRelationship.PREVIOUS: '2'>: RelatedNodeInfo(node_id='dca6a760-5daa-43ab-9751-51ec554266d1', node_type=<ObjectType.TEXT: '1'>, metadata={}, hash='2ff7bd61e100b9440b04ff3a4ca9e853adbab64c3812fb5e36e33a9c17ea3879'), <NodeRelationship.NEXT: '3'>: RelatedNodeInfo(node_id='cc50665a-eee6-4afb-92ef-813340f7da47', node_type=<ObjectType.TEXT: '1'>, metadata={}, hash='342f48b721cdb6fb9ff0870d761f3e190a05da8a55f2a2d09d49bb4c6e9ab219')}, text='และในปี พ.ศ. 2469 เปลี่ยนชื่อจาก \"มณฑลกรุงเก่า\" เป็น \"มณฑลอยุธยา\"', start_char_idx=1703, end_char_idx=1768, text_template='{metadata_str}\\n\\n{content}', metadata_template='{key}: {value}', metadata_seperator='\\n'),\n",
       " TextNode(id_='cc50665a-eee6-4afb-92ef-813340f7da47', embedding=None, metadata={}, excluded_embed_metadata_keys=[], excluded_llm_metadata_keys=[], relationships={<NodeRelationship.SOURCE: '1'>: RelatedNodeInfo(node_id='e3254bee-4e69-4db6-885c-f949dd707c40', node_type=<ObjectType.DOCUMENT: '4'>, metadata={}, hash='28f6adc6de03f540df96fa0fec027a796747235831202c9981e5b9523629f427'), <NodeRelationship.PREVIOUS: '2'>: RelatedNodeInfo(node_id='443be795-738f-4d3f-8b66-4b708e504b15', node_type=<ObjectType.TEXT: '1'>, metadata={}, hash='dad7cc27bf124e6a4b7a672b012130a9b875e6a3c866270ab38f788e33690452'), <NodeRelationship.NEXT: '3'>: RelatedNodeInfo(node_id='e36dd2d4-69d2-4a48-8c8d-ba7e426113f5', node_type=<ObjectType.TEXT: '1'>, metadata={}, hash='fc7f6a72463e26b8757368deb0496a1a442a686e32298c82f2d782ac5d32186e')}, text='เป็น \"มณฑลอยุธยา\" ซึ่งจากการจัดตั้งมณฑลอยุธยามีผลให้อยุธยามีความสำคัญทางการบริหารการปกครองมากขึ้น', start_char_idx=1751, end_char_idx=1848, text_template='{metadata_str}\\n\\n{content}', metadata_template='{key}: {value}', metadata_seperator='\\n'),\n",
       " TextNode(id_='e36dd2d4-69d2-4a48-8c8d-ba7e426113f5', embedding=None, metadata={}, excluded_embed_metadata_keys=[], excluded_llm_metadata_keys=[], relationships={<NodeRelationship.SOURCE: '1'>: RelatedNodeInfo(node_id='e3254bee-4e69-4db6-885c-f949dd707c40', node_type=<ObjectType.DOCUMENT: '4'>, metadata={}, hash='28f6adc6de03f540df96fa0fec027a796747235831202c9981e5b9523629f427'), <NodeRelationship.PREVIOUS: '2'>: RelatedNodeInfo(node_id='cc50665a-eee6-4afb-92ef-813340f7da47', node_type=<ObjectType.TEXT: '1'>, metadata={}, hash='342f48b721cdb6fb9ff0870d761f3e190a05da8a55f2a2d09d49bb4c6e9ab219'), <NodeRelationship.NEXT: '3'>: RelatedNodeInfo(node_id='5d12a317-1857-43de-bdb7-e8d519ac27b4', node_type=<ObjectType.TEXT: '1'>, metadata={}, hash='e6d393861a42fe1807cef6121f929a5801cdc9a305f88c1a183f096ed0c16221')}, text='การสร้างสิ่งสาธารณูปโภคหลายอย่างมีผลต่อการพัฒนาเมืองอยุธยาในเวลาต่อมา', start_char_idx=1849, end_char_idx=1918, text_template='{metadata_str}\\n\\n{content}', metadata_template='{key}: {value}', metadata_seperator='\\n'),\n",
       " TextNode(id_='5d12a317-1857-43de-bdb7-e8d519ac27b4', embedding=None, metadata={}, excluded_embed_metadata_keys=[], excluded_llm_metadata_keys=[], relationships={<NodeRelationship.SOURCE: '1'>: RelatedNodeInfo(node_id='e3254bee-4e69-4db6-885c-f949dd707c40', node_type=<ObjectType.DOCUMENT: '4'>, metadata={}, hash='28f6adc6de03f540df96fa0fec027a796747235831202c9981e5b9523629f427'), <NodeRelationship.PREVIOUS: '2'>: RelatedNodeInfo(node_id='e36dd2d4-69d2-4a48-8c8d-ba7e426113f5', node_type=<ObjectType.TEXT: '1'>, metadata={}, hash='fc7f6a72463e26b8757368deb0496a1a442a686e32298c82f2d782ac5d32186e'), <NodeRelationship.NEXT: '3'>: RelatedNodeInfo(node_id='c40edab1-22ed-40c7-ae76-f4d5ea1b6221', node_type=<ObjectType.TEXT: '1'>, metadata={}, hash='cde41db18b8cf2b764e31bc75ec5c9ad0ce12487599d4cf7f40f4a9433075bbd')}, text='จนเมื่อยกเลิกการปกครองระบบมณฑลเทศาภิบาล ภายหลังการเปลี่ยนแปลงการปกครอง พ.ศ. 2475', start_char_idx=1919, end_char_idx=1999, text_template='{metadata_str}\\n\\n{content}', metadata_template='{key}: {value}', metadata_seperator='\\n'),\n",
       " TextNode(id_='c40edab1-22ed-40c7-ae76-f4d5ea1b6221', embedding=None, metadata={}, excluded_embed_metadata_keys=[], excluded_llm_metadata_keys=[], relationships={<NodeRelationship.SOURCE: '1'>: RelatedNodeInfo(node_id='e3254bee-4e69-4db6-885c-f949dd707c40', node_type=<ObjectType.DOCUMENT: '4'>, metadata={}, hash='28f6adc6de03f540df96fa0fec027a796747235831202c9981e5b9523629f427'), <NodeRelationship.PREVIOUS: '2'>: RelatedNodeInfo(node_id='5d12a317-1857-43de-bdb7-e8d519ac27b4', node_type=<ObjectType.TEXT: '1'>, metadata={}, hash='e6d393861a42fe1807cef6121f929a5801cdc9a305f88c1a183f096ed0c16221')}, text='พ.ศ. 2475 อยุธยาจึงเปลี่ยนฐานะเป็นจังหวัดพระนครศรีอยุธยาจนถึงปัจจุบัน', start_char_idx=1990, end_char_idx=2059, text_template='{metadata_str}\\n\\n{content}', metadata_template='{key}: {value}', metadata_seperator='\\n')]"
      ]
     },
     "execution_count": 23,
     "metadata": {},
     "output_type": "execute_result"
    }
   ],
   "source": [
    "nodes"
   ]
  },
  {
   "cell_type": "code",
   "execution_count": null,
   "metadata": {},
   "outputs": [],
   "source": []
  }
 ],
 "metadata": {
  "kernelspec": {
   "display_name": "Python 3",
   "language": "python",
   "name": "python3"
  },
  "language_info": {
   "codemirror_mode": {
    "name": "ipython",
    "version": 3
   },
   "file_extension": ".py",
   "mimetype": "text/x-python",
   "name": "python",
   "nbconvert_exporter": "python",
   "pygments_lexer": "ipython3",
   "version": "3.10.12"
  }
 },
 "nbformat": 4,
 "nbformat_minor": 2
}

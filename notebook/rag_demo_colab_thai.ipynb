{
  "cells": [
    {
      "cell_type": "markdown",
      "id": "19b7d53f",
      "metadata": {
        "id": "19b7d53f"
      },
      "source": [
        "## ✅ ขั้นตอนที่ 1: ติดตั้งไลบรารีและโหลดเอกสาร"
      ]
    },
    {
      "cell_type": "code",
      "source": [
        "%pip install nest_asyncio"
      ],
      "metadata": {
        "colab": {
          "base_uri": "https://localhost:8080/"
        },
        "id": "UFppWSOWV-ua",
        "outputId": "ed8c68a7-c526-4de9-cc4d-da7859f12156"
      },
      "id": "UFppWSOWV-ua",
      "execution_count": 1,
      "outputs": [
        {
          "output_type": "stream",
          "name": "stdout",
          "text": [
            "Requirement already satisfied: nest_asyncio in /usr/local/lib/python3.11/dist-packages (1.6.0)\n"
          ]
        }
      ]
    },
    {
      "cell_type": "code",
      "source": [
        "import nest_asyncio\n",
        "nest_asyncio.apply()"
      ],
      "metadata": {
        "id": "7fnFNc9aWAgp"
      },
      "id": "7fnFNc9aWAgp",
      "execution_count": 2,
      "outputs": []
    },
    {
      "cell_type": "code",
      "execution_count": 3,
      "id": "7df8fc10",
      "metadata": {
        "colab": {
          "base_uri": "https://localhost:8080/"
        },
        "id": "7df8fc10",
        "outputId": "c254aa6d-9298-4dc9-e099-91ab8d1e092e"
      },
      "outputs": [
        {
          "output_type": "stream",
          "name": "stdout",
          "text": [
            "\u001b[2K   \u001b[90m━━━━━━━━━━━━━━━━━━━━━━━━━━━━━━━━━━━━━━━━\u001b[0m \u001b[32m2.9/2.9 MB\u001b[0m \u001b[31m29.2 MB/s\u001b[0m eta \u001b[36m0:00:00\u001b[0m\n",
            "\u001b[2K   \u001b[90m━━━━━━━━━━━━━━━━━━━━━━━━━━━━━━━━━━━━━━━━\u001b[0m \u001b[32m60.8/60.8 kB\u001b[0m \u001b[31m2.3 MB/s\u001b[0m eta \u001b[36m0:00:00\u001b[0m\n",
            "\u001b[2K   \u001b[90m━━━━━━━━━━━━━━━━━━━━━━━━━━━━━━━━━━━━━━━━\u001b[0m \u001b[32m92.0/92.0 kB\u001b[0m \u001b[31m4.6 MB/s\u001b[0m eta \u001b[36m0:00:00\u001b[0m\n",
            "\u001b[2K   \u001b[90m━━━━━━━━━━━━━━━━━━━━━━━━━━━━━━━━━━━━━━━━\u001b[0m \u001b[32m71.9/71.9 kB\u001b[0m \u001b[31m5.7 MB/s\u001b[0m eta \u001b[36m0:00:00\u001b[0m\n",
            "\u001b[2K   \u001b[90m━━━━━━━━━━━━━━━━━━━━━━━━━━━━━━━━━━━━━━━━\u001b[0m \u001b[32m53.6/53.6 kB\u001b[0m \u001b[31m3.5 MB/s\u001b[0m eta \u001b[36m0:00:00\u001b[0m\n",
            "\u001b[2K   \u001b[90m━━━━━━━━━━━━━━━━━━━━━━━━━━━━━━━━━━━━━━━━\u001b[0m \u001b[32m313.6/313.6 kB\u001b[0m \u001b[31m14.1 MB/s\u001b[0m eta \u001b[36m0:00:00\u001b[0m\n",
            "\u001b[2K   \u001b[90m━━━━━━━━━━━━━━━━━━━━━━━━━━━━━━━━━━━━━━━━\u001b[0m \u001b[32m62.5/62.5 kB\u001b[0m \u001b[31m1.8 MB/s\u001b[0m eta \u001b[36m0:00:00\u001b[0m\n",
            "\u001b[?25h/usr/local/lib/python3.11/dist-packages/gdown/__main__.py:140: FutureWarning: Option `--id` was deprecated in version 4.3.1 and will be removed in 5.0. You don't need to pass it anymore to use a file ID.\n",
            "  warnings.warn(\n",
            "Downloading...\n",
            "From: https://drive.google.com/uc?id=1NOzM7fEtOVGYQNj52Tp36GdSSzZS3U2h\n",
            "To: /content/data/1.pdf\n",
            "100% 3.86M/3.86M [00:00<00:00, 12.4MB/s]\n",
            "  % Total    % Received % Xferd  Average Speed   Time    Time     Time  Current\n",
            "                                 Dload  Upload   Total   Spent    Left  Speed\n",
            "100 37428  100 37428    0     0   127k      0 --:--:-- --:--:-- --:--:--  126k\n",
            "  % Total    % Received % Xferd  Average Speed   Time    Time     Time  Current\n",
            "                                 Dload  Upload   Total   Spent    Left  Speed\n",
            "100  4217  100  4217    0     0  14000      0 --:--:-- --:--:-- --:--:-- 14009\n",
            "  % Total    % Received % Xferd  Average Speed   Time    Time     Time  Current\n",
            "                                 Dload  Upload   Total   Spent    Left  Speed\n",
            "100  4997  100  4997    0     0  21140      0 --:--:-- --:--:-- --:--:-- 21173\n"
          ]
        }
      ],
      "source": [
        "# ติดตั้งไลบรารีที่จำเป็น\n",
        "!pip install -q llama-index chromadb nest-asyncio python-docx\n",
        "!pip install -q ngrok==1.3.0\n",
        "!pip install -q uvicorn==0.29.0\n",
        "!pip install -q fastapi==0.111.0\n",
        "!pip install -q loguru==0.7.2\n",
        "!pip install -q gdown\n",
        "!pip install -q docx2txt\n",
        "%pip install -Uq llama-index-embeddings-huggingface\n",
        "%pip install -Uq chromadb\n",
        "%pip install -Uq llama-index-vector-stores-chroma\n",
        "%pip install -q llama-index-llms-openrouter\n",
        "\n",
        "# สร้างโฟลเดอร์เก็บไฟล์\n",
        "!mkdir -p ./data\n",
        "\n",
        "file_id = \"1NOzM7fEtOVGYQNj52Tp36GdSSzZS3U2h\"\n",
        "destination = \"./data/1.pdf\"\n",
        "\n",
        "!gdown --id {file_id} -O {destination}\n",
        "\n",
        "\n",
        "# ดาวน์โหลดเอกสารตัวอย่างสำหรับสร้าง index\n",
        "!curl -L -o ./data/cv.docx \"https://raw.githubusercontent.com/9meo/llm-training/refs/heads/main/material/cv_thai_sample.docx\"\n",
        "!curl -L -o ./data/llm_basics.txt \"https://raw.githubusercontent.com/9meo/llm-training/refs/heads/main/material/llm_basics.txt\"\n",
        "!curl -L -o ./data/elephant.txt \"https://raw.githubusercontent.com/9meo/llm-training/refs/heads/main/material/thai_elephant_knowledge.txt\"\n"
      ]
    },
    {
      "cell_type": "markdown",
      "id": "2a1ae20b",
      "metadata": {
        "id": "2a1ae20b"
      },
      "source": [
        "## ✅ ขั้นตอนที่ 2: โหลดเอกสาร และสร้าง Embedding + Index"
      ]
    },
    {
      "cell_type": "code",
      "execution_count": 6,
      "id": "33371a43",
      "metadata": {
        "id": "33371a43"
      },
      "outputs": [],
      "source": [
        "from llama_index.llms.openrouter import OpenRouter\n",
        "from llama_index.core.llms import ChatMessage\n",
        "from llama_index.core import SimpleDirectoryReader, VectorStoreIndex, StorageContext\n",
        "from llama_index.embeddings.huggingface import HuggingFaceEmbedding\n",
        "from llama_index.vector_stores.chroma import ChromaVectorStore\n",
        "import chromadb\n",
        "\n",
        "# กำหนด LLM ที่จะใช้ (สามารถเปลี่ยน model ได้ตามต้องการ)\n",
        "llm = OpenRouter(\n",
        "   api_key=\"\",  # 🔑 ใส่ OpenRouter API Key ที่นี่\n",
        "    max_tokens=256,\n",
        "    context_window=4096,\n",
        "    model=\"google/gemma-3-27b-it:free\",\n",
        ")\n",
        "\n",
        "\n"
      ]
    },
    {
      "cell_type": "code",
      "source": [
        "message = ChatMessage(role=\"user\", content=\"เล่นตลกให้ดูหน่อย อย่างสีเหลือง=เยลโล่  มะม่วง=แมงโก้ มีด=\")\n",
        "resp = llm.chat([message])\n",
        "print(resp)"
      ],
      "metadata": {
        "colab": {
          "base_uri": "https://localhost:8080/"
        },
        "id": "OOR2CAz3XbBY",
        "outputId": "5f232154-07ab-488c-ba76-e78e4159473f"
      },
      "id": "OOR2CAz3XbBY",
      "execution_count": 7,
      "outputs": [
        {
          "output_type": "stream",
          "name": "stdout",
          "text": [
            "assistant: แน่นอน! เล่นตามเลยนะ\n",
            "\n",
            "สีเหลือง = เยลโล่\n",
            "มะม่วง = แมงโก้\n",
            "มีด = ไนฟ์\n",
            "\n",
            "แล้ว...\n",
            "\n",
            "ประเทศไทย = ไทยแลนด์! 🇹🇭\n",
            "\n",
            "เป็นไงบ้าง? สนุกไหม? 😄\n",
            "\n"
          ]
        }
      ]
    },
    {
      "cell_type": "code",
      "source": [
        "# โหลดเอกสารจากโฟลเดอร์ ./data\n",
        "docs = SimpleDirectoryReader(input_dir=\"./data\").load_data()"
      ],
      "metadata": {
        "id": "QCdV70laW6lj"
      },
      "id": "QCdV70laW6lj",
      "execution_count": 8,
      "outputs": []
    },
    {
      "cell_type": "code",
      "source": [
        "import pprint\n",
        "pprint.pprint(docs)"
      ],
      "metadata": {
        "colab": {
          "base_uri": "https://localhost:8080/"
        },
        "id": "xQQIu4ozXxOq",
        "outputId": "311f3d05-1627-4ea0-bd6d-df4a43a8fbe0"
      },
      "id": "xQQIu4ozXxOq",
      "execution_count": 9,
      "outputs": [
        {
          "output_type": "stream",
          "name": "stdout",
          "text": [
            "[Document(id_='26bc04ae-b98a-41b6-abb5-8221713b345e', embedding=None, metadata={'page_label': '1', 'file_name': '1.pdf', 'file_path': '/content/data/1.pdf', 'file_type': 'application/pdf', 'file_size': 3857399, 'creation_date': '2025-03-26', 'last_modified_date': '2025-03-19'}, excluded_embed_metadata_keys=['file_name', 'file_type', 'file_size', 'creation_date', 'last_modified_date', 'last_accessed_date'], excluded_llm_metadata_keys=['file_name', 'file_type', 'file_size', 'creation_date', 'last_modified_date', 'last_accessed_date'], relationships={}, metadata_template='{key}: {value}', metadata_separator='\\n', text_resource=MediaResource(embeddings=None, data=None, text='ปัญญาประดิษฐ์เพื่อการประเมินการกัดกร่อน\\nในบรรยากาศและแผนที่การกัดกร่อน:\\nความยั่งยืนและความปลอดภัยของโครงสร้างเหล็กกล้า\\nAI in Atmospheric Corrosion Assessment and Corroison Map:\\nSteel Infrastructure Safety and Sustainability\\n การกัดกร่อนของเหล็กกล้าโครงสร้างใน\\nบรรยากาศขึ้นอยู่กับปัจจัยสภาพอากาศและ\\nสภาพแวดล้อม เอ็มเทค ศึกษาการกัดกร่อน\\nในบรรยากาศประเทศไทย เพื ่อสร้างฐาน\\nข้อมูลวัสดุกลุ่มเหล็ก โดยการทดสอบชิ้นงาน\\nตัวแทน และเก็บข้อมูลอากาศ พร้อมกับ\\nข้อมูลการกัดกร่อนผ่านเซนเซอร์วัดกระแส\\nไฟฟ้า และนําผลการวิจัยมาจัดทําระบบเว็บ\\nวิศวกรสามารถนําข้อมูลอัตราการกัดกร่อนจากแผนที ่การ\\nกัดกร่อนในปัจจุบัน ไปออกแบบโครงสร้างให้ทนต่อสภาพอากาศ\\nที่ใช้งานและวางแผนซ่อมบํารุง เพื่อความยั่งยืนและปลอดภัยของ\\nโครงสร้างเหล็กกล้า\\nประโยชน์ และการนําไปใช้\\nวิศวกรโยธา สถาปนิก ผู้ผลิตสีป้องกันสนิม ผู้ผลิตโครงสร้าง\\nเหล็ก และเหล็กชุบสังกะสี อุตสาหกรรมก่อสร้าง งานซ่อมบํารุง\\nโครงสร้างพื้นฐาน เช่น การรถไฟ กรมทางหลวง การไฟฟ้า \\nโรงงานอุตสาหกรรมบริเวณใกล้ชายทะเล\\nกลุ่มเป้าหมาย \\n• ทีมวิจัยเทคโนโลยีการกัดกร่อน พัฒนาเทคโนโลยีอย่างต่อเนื่อง\\nเพื่อการซ่อมบํารุงแบบคาดการณ์ (predictive maintenance) \\nมุ่งเน้นการออกแบบโครงสร้างเหล็กที่ยั่งยืนและปลอดภัย โดย\\nอาศัยข้อมูลจากแผนที่การกัดกร่อน \\n• การนํา machine learning มาประยุกต์ใช้ เพื่อช่วยในการเรียนรู้\\nชุดข้อมูลเซนเซอร์การกัดกร่อนและเซนเซอร์วัดสภาพอากาศ ทําให้\\nเข้าใจอิทธิพลของตัวแปรต่าง ๆ ในเชิงลึกมากขึ้น เพื่อปรับปรุง\\nแผนที่อัตราการกัดกร่อนให้แม่นยํามากยิ่งขึ้น\\n• เทคนิคการติดตามการกัดกร่อนและปัจจัยที่เกี่ยวข้องด้วยเซนเซอร์\\nร่วมกับการใช้ machine learning สามารถต่อยอดไปสู่บริบท\\nอื่น ๆ ในภาคอุตสาหกรรมได้ ทีมวิจัยมีความพร้อมให้คําปรึกษา \\nร่วมวิจัย และให้บริการแก่ภาคเอกชนหรือหน่วยงานที่มีความสนใจ\\nสถานการณ์วิจัย\\nดร.วนิดา พงศ์ศักดิ์สวัสดิ์ \\nทีมวิจัยเทคโนโลยีการกัดกร่อน (CTT) \\nกลุ่มวิจัยเทคโนโลยีระบบรางและการขนส่งสมัยใหม่ (RMT)\\nศูนย์เทคโนโลยีโลหะและวัสดุแห่งชาติ (MTEC)\\nเบอร์โทรศัพท์: 025646500 ต่อ 4756\\nE-mail: wanida.pon@mtec.or.th \\nติดต่อสอบถาม\\nแอพพลิเคชั่นแสดงข้อมูลแผนที่การกัดกร่อนเป็นครั้งแรกในประเทศไทย \\n ปัจจุบันได้ประยุกต์ใช้ปัญญาประดิษฐ์กับข้อมูลเซนเซอร์ภายใต้โครงการความร่วมมือระหว่าง CAS-NSTDA \\nในการทํานายอัตราการกัดกร่อนของเหล็กกล้าทนบรรยากาศด้วยข้อมูลจากจังหวัดสงขลา ได้ผลการทํานายอัตรา\\nการกัดกร่อนที่แม่นยํา และทราบอิทธิพลของตัวแปรที ่สําคัญ ได้แก่ ระยะเวลาใช้งาน อุณหภูมิ ความชื ้น และ\\nความเร็วลม สามารถต่อยอดเป็นแผนที ่การกัดกร่อนแบบ AI ทั ่วประเทศได้เมื่อมีการเก็บข้อมูลในบรรยากาศ\\nประเทศไทยเพิ่มเติม\\nThailand Corrosion Map web application\\nยกตัวอย่างเช่น จังหวัดภูเก็ต บริเวณติดทะเลทิศตะวันออกเฉียง\\nใต้ของเกาะ จะมีอัตราการกัดกร่อนของเหล็กกล้าคาร์บอน 222 ไมครอน\\nต่อปี (CX) วิศวกรควรคาดการณ์ความเร่งด่วนในการซ่อมบํารุง\\nประกอบกับข้อมูลด้านความแข็งแรงของโครงสร้าง  ในเชิงเศรษฐศาสตร์\\nอาจต้องคํานวณค่าบํารุงรักษาในระยะยาว เช่น เหล็กกล้าชุบสังกะสีผสม\\nอะลูมิเนียมหนา 60 ไมครอน จะมีอัตราการกัดกร่อนที่ช้าลง และยืดอายุ\\nการใช้งานได้ราว 60 ปี เป็นต้น\\nยกตัวอย่างเช่น จังหวัดภูเก็ต บริเวณติดทะเลทิศตะวันออกเฉียงใต้ของเกาะ จะ\\nมีอัตราการกัดกร่อนของเหล็กกล้าคาร์บอน 222 ไมครอนต่อปี (CX) สามารถใช้ข้อมูล\\nจากเว็บดังกล่าว ดังนี้ วิศวกรควรคาดการณ์ความเร่งด่วนในการซ่อมบํารุงประกอบกับ\\nข้อมูลด้านความแข็งแรงของโครงสร้าง  ในเชิงเศรษฐศาสตร์อาจต้องคํานวณค่าบํารุง\\nรักษาในระยะยาว เช่น เหล็กกล้าชุบสังกะสีผสมอะลูมิเนียมหนา 60 ไมครอน จะมีอัตรา\\nการกัดกร่อนที่ช้าลง และยืดอายุการใช้งานได้ราว 60 ปี เป็นต้น\\n', path=None, url=None, mimetype=None), image_resource=None, audio_resource=None, video_resource=None, text_template='{metadata_str}\\n\\n{content}'),\n",
            " Document(id_='87c536b1-3016-4604-8ccf-96e6cd1718ed', embedding=None, metadata={'file_name': 'cv.docx', 'file_path': '/content/data/cv.docx', 'file_type': 'application/vnd.openxmlformats-officedocument.wordprocessingml.document', 'file_size': 37428, 'creation_date': '2025-03-26', 'last_modified_date': '2025-03-26'}, excluded_embed_metadata_keys=['file_name', 'file_type', 'file_size', 'creation_date', 'last_modified_date', 'last_accessed_date'], excluded_llm_metadata_keys=['file_name', 'file_type', 'file_size', 'creation_date', 'last_modified_date', 'last_accessed_date'], relationships={}, metadata_template='{key}: {value}', metadata_separator='\\n', text_resource=MediaResource(embeddings=None, data=None, text='ประวัติส่วนตัว\\n\\nชื่อ: นายสมชาย ใจดี\\n\\nวันเกิด: 15 มกราคม 2533\\n\\nที่อยู่: 123 ถนนสุขุมวิท, เขตคลองเตย, กรุงเทพมหานคร 10110\\n\\nโทรศัพท์: 081-234-5678\\n\\nอีเมล: somchai.jai@gmail.com\\n\\nประวัติการศึกษา\\n\\nมหาวิทยาลัยธรรมศาสตร์, คณะวิศวกรรมศาสตร์, ปริญญาตรี, 2551 - 2555\\n\\nโรงเรียนเตรียมอุดมศึกษา, แผนกวิทยาศาสตร์-คณิตศาสตร์, 2548 - 2551\\n\\nประสบการณ์ทำงาน\\n\\nบริษัท เทคโนโลยีไทย จำกัด, วิศวกรซอฟต์แวร์, 2560 - ปัจจุบัน\\n\\n- พัฒนาและดูแลระบบซอฟต์แวร์สำหรับลูกค้าองค์กร\\n\\n- ใช้ภาษา Python และ JavaScript ในการพัฒนาเว็บแอปพลิเคชัน\\n\\nบริษัท ซอฟต์แวร์อินโนเวชั่น, โปรแกรมเมอร์, 2555 - 2560\\n\\n- ออกแบบและพัฒนาโปรแกรมสำหรับระบบ ERP\\n\\nทักษะและความสามารถ\\n\\n- การเขียนโปรแกรม: Python, JavaScript, SQL\\n\\n- การใช้เครื่องมือ: Git, Docker, Kubernetes\\n\\n- ภาษา: ไทย (แม่ภาษา), อังกฤษ (ดี)\\n\\nกิจกรรมและความสนใจ\\n\\n- การพัฒนาโอเพ่นซอร์ส\\n\\n- การอ่านหนังสือเทคโนโลยีและนวัตกรรม', path=None, url=None, mimetype=None), image_resource=None, audio_resource=None, video_resource=None, text_template='{metadata_str}\\n\\n{content}'),\n",
            " Document(id_='31ab32ab-71c9-4790-92e4-9802537d6893', embedding=None, metadata={'file_path': '/content/data/elephant.txt', 'file_name': 'elephant.txt', 'file_type': 'text/plain', 'file_size': 4997, 'creation_date': '2025-03-26', 'last_modified_date': '2025-03-26'}, excluded_embed_metadata_keys=['file_name', 'file_type', 'file_size', 'creation_date', 'last_modified_date', 'last_accessed_date'], excluded_llm_metadata_keys=['file_name', 'file_type', 'file_size', 'creation_date', 'last_modified_date', 'last_accessed_date'], relationships={}, metadata_template='{key}: {value}', metadata_separator='\\n', text_resource=MediaResource(embeddings=None, data=None, text='## ความรู้เกี่ยวกับช้างไทย\\n\\n### 1. ช้างไทยคืออะไร?\\nช้างไทย (Asian Elephant - Elephas maximus) เป็นสัตว์สัญลักษณ์ของประเทศไทยและมีบทบาทสำคัญทั้งในวัฒนธรรม ประวัติศาสตร์ และเศรษฐกิจของประเทศ โดยช้างไทยจัดอยู่ในกลุ่มช้างเอเชีย ซึ่งมีขนาดเล็กกว่าช้างแอฟริกา และมีลักษณะเฉพาะที่แตกต่างกัน เช่น หัวเป็นโค้ง คอหนา และหูขนาดเล็กกว่าช้างแอฟริกา\\n\\n### 2. ลักษณะทางกายภาพของช้างไทย\\n- ความสูง: ประมาณ 2.5 - 3.2 เมตร\\n- น้ำหนัก: 2,700 - 4,500 กิโลกรัม\\n- อายุขัย: 60 - 80 ปี\\n- อาหาร: พืช หญ้า ใบไม้ ผลไม้ และเปลือกไม้ โดยสามารถกินอาหารได้ถึง 150 กิโลกรัมต่อวัน\\n\\n### 3. บทบาทของช้างไทยในอดีตและปัจจุบัน\\n- **ในอดีต**: ช้างไทยเคยถูกใช้เป็นสัตว์สงครามในสมัยโบราณ รวมถึงใช้ในการขนส่งไม้และงานหนักในป่า\\n- **ในปัจจุบัน**: ช้างไทยถูกใช้ในการท่องเที่ยว งานอนุรักษ์ และกิจกรรมทางวัฒนธรรม เช่น การแสดงช้าง และพิธีกรรมทางศาสนา\\n\\n### 4. สถานการณ์และปัญหาของช้างไทย\\nปัจจุบันช้างไทยเผชิญกับปัญหาหลายประการ ได้แก่:\\n- การลดลงของแหล่งที่อยู่อาศัยเนื่องจากการตัดไม้ทำลายป่า\\n- ปัญหาการล่าช้างเพื่อการค้า เช่น งาช้างและชิ้นส่วนของช้าง\\n- ปัญหาสวัสดิภาพช้างในอุตสาหกรรมท่องเที่ยว\\n\\n### 5. การอนุรักษ์ช้างไทย\\nองค์กรและหน่วยงานหลายแห่งกำลังดำเนินมาตรการเพื่อปกป้องและอนุรักษ์ช้างไทย เช่น:\\n- การส่งเสริมศูนย์อนุรักษ์ช้าง เช่น ศูนย์อนุรักษ์ช้างไทยที่จังหวัดลำปาง\\n- การพัฒนาแนวทางการท่องเที่ยวเชิงอนุรักษ์ที่เป็นมิตรกับช้าง\\n- การออกกฎหมายเพื่อปกป้องช้างป่าและช้างบ้าน เช่น พ.ร.บ. สงวนและคุ้มครองสัตว์ป่า\\n\\n### 6. ช้างไทยในวัฒนธรรมไทย\\nช้างมีความสำคัญในวัฒนธรรมไทยมาอย่างยาวนาน โดยมีบทบาทใน:\\n- ศิลปะและสัญลักษณ์ เช่น รูปปั้นช้าง วัดที่มีภาพวาดเกี่ยวกับช้าง\\n- พระราชพิธี เช่น พิธีถือน้ำพระพิพัฒน์สัตยา\\n- เครื่องหมายแห่งโชคลาภและความเจริญรุ่งเรือง เช่น ช้างเผือกที่เกี่ยวข้องกับสถาบันพระมหากษัตริย์ไทย\\n\\n### สรุป\\nช้างไทยเป็นสัตว์ที่มีคุณค่าทั้งทางวัฒนธรรมและระบบนิเวศ อย่างไรก็ตาม ปัจจุบันช้างไทยเผชิญกับปัญหาหลายประการที่ต้องการความร่วมมือในการอนุรักษ์เพื่อให้ช้างไทยคงอยู่ต่อไปในอนาคต\\n', path=None, url=None, mimetype=None), image_resource=None, audio_resource=None, video_resource=None, text_template='{metadata_str}\\n\\n{content}'),\n",
            " Document(id_='78b0aaa3-f844-4bda-b0bb-53e25e9965c4', embedding=None, metadata={'file_path': '/content/data/llm_basics.txt', 'file_name': 'llm_basics.txt', 'file_type': 'text/plain', 'file_size': 4217, 'creation_date': '2025-03-26', 'last_modified_date': '2025-03-26'}, excluded_embed_metadata_keys=['file_name', 'file_type', 'file_size', 'creation_date', 'last_modified_date', 'last_accessed_date'], excluded_llm_metadata_keys=['file_name', 'file_type', 'file_size', 'creation_date', 'last_modified_date', 'last_accessed_date'], relationships={}, metadata_template='{key}: {value}', metadata_separator='\\n', text_resource=MediaResource(embeddings=None, data=None, text='## ความรู้เบื้องต้นเกี่ยวกับ Large Language Models (LLMs)\\n\\n### 1. Large Language Model (LLM) คืออะไร?\\nLarge Language Models (LLMs) เป็นโมเดลปัญญาประดิษฐ์ที่ได้รับการฝึกด้วยข้อมูลจำนวนมากเพื่อให้สามารถเข้าใจและสร้างข้อความในลักษณะของภาษามนุษย์ได้ โมเดลเหล่านี้ใช้โครงสร้าง Neural Networks ขนาดใหญ่ โดยเฉพาะ Transformer Architecture เช่น GPT, BERT และ LLaMA\\n\\n### 2. หลักการทำงานของ LLMs\\nLLMs ใช้โครงข่ายประสาทเทียมที่มีชั้นของ Attention Mechanism เพื่อเรียนรู้ความสัมพันธ์ของคำในประโยค โดยสามารถ:\\n- ทำนายคำถัดไปในประโยค (Next Token Prediction)\\n- ทำความเข้าใจและสร้างข้อความที่มีบริบทสอดคล้อง\\n- รองรับงานหลายประเภท เช่น การสรุปข้อความ การแปลภาษา และการสนทนา\\n\\n### 3. ตัวอย่าง LLMs ที่เป็นที่นิยม\\n- **GPT-4** (โดย OpenAI) – โมเดลภาษาที่สามารถสร้างข้อความที่ซับซ้อนและแม่นยำ\\n- **BERT** (โดย Google) – โมเดลที่เน้นความเข้าใจความหมายของคำในบริบท\\n- **LLaMA** (โดย Meta) – โมเดลขนาดเล็กที่สามารถปรับแต่งให้เหมาะสมกับงานต่าง ๆ\\n\\n### 4. การใช้งาน LLMs ในงานต่าง ๆ\\n- การแปลภาษา (Machine Translation)\\n- การสร้างข้อความอัตโนมัติ (Text Generation)\\n- การสนับสนุนลูกค้าอัตโนมัติ (AI Chatbots)\\n- การสรุปบทความ (Text Summarization)\\n- การตอบคำถามจากเอกสาร (Question Answering)\\n\\n### 5. ความท้าทายและข้อจำกัดของ LLMs\\n- ต้องการทรัพยากรคอมพิวเตอร์สูง\\n- อาจมีอคติในข้อมูลที่ใช้ฝึก (Bias)\\n- อาจให้ข้อมูลที่ผิดหรือไม่มีแหล่งอ้างอิงที่แน่นอน\\n\\n### 6. แนวโน้มในอนาคตของ LLMs\\nLLMs กำลังถูกพัฒนาให้สามารถใช้งานได้อย่างมีประสิทธิภาพมากขึ้น โดยมุ่งเน้นที่:\\n- การลดการใช้พลังงานในการประมวลผล\\n- การเพิ่มความสามารถด้านการให้เหตุผลและความแม่นยำ\\n- การพัฒนาโมเดลที่เข้าใจข้อมูลหลายรูปแบบ (Multi-Modal AI)\\n\\n### สรุป\\nLarge Language Models เป็นเทคโนโลยีที่ทรงพลังซึ่งสามารถนำไปประยุกต์ใช้ได้ในหลายด้าน แต่ก็ยังคงมีข้อจำกัดที่ต้องคำนึงถึง การพัฒนาในอนาคตจะช่วยให้ LLMs สามารถทำงานได้ดีขึ้นและมีประโยชน์มากขึ้นในชีวิตประจำวันของเรา\\n', path=None, url=None, mimetype=None), image_resource=None, audio_resource=None, video_resource=None, text_template='{metadata_str}\\n\\n{content}')]\n"
          ]
        }
      ]
    },
    {
      "cell_type": "code",
      "source": [
        "docs[0].__dict__"
      ],
      "metadata": {
        "colab": {
          "base_uri": "https://localhost:8080/"
        },
        "collapsed": true,
        "id": "mlqEueRSX2cj",
        "outputId": "ee78a610-34ba-486b-b29b-e72bb3bc7d07"
      },
      "id": "mlqEueRSX2cj",
      "execution_count": 10,
      "outputs": [
        {
          "output_type": "execute_result",
          "data": {
            "text/plain": [
              "{'id_': '26bc04ae-b98a-41b6-abb5-8221713b345e',\n",
              " 'embedding': None,\n",
              " 'metadata': {'page_label': '1',\n",
              "  'file_name': '1.pdf',\n",
              "  'file_path': '/content/data/1.pdf',\n",
              "  'file_type': 'application/pdf',\n",
              "  'file_size': 3857399,\n",
              "  'creation_date': '2025-03-26',\n",
              "  'last_modified_date': '2025-03-19'},\n",
              " 'excluded_embed_metadata_keys': ['file_name',\n",
              "  'file_type',\n",
              "  'file_size',\n",
              "  'creation_date',\n",
              "  'last_modified_date',\n",
              "  'last_accessed_date'],\n",
              " 'excluded_llm_metadata_keys': ['file_name',\n",
              "  'file_type',\n",
              "  'file_size',\n",
              "  'creation_date',\n",
              "  'last_modified_date',\n",
              "  'last_accessed_date'],\n",
              " 'relationships': {},\n",
              " 'metadata_template': '{key}: {value}',\n",
              " 'metadata_separator': '\\n',\n",
              " 'text_resource': MediaResource(embeddings=None, data=None, text='ปัญญาประดิษฐ์เพื่อการประเมินการกัดกร่อน\\nในบรรยากาศและแผนที่การกัดกร่อน:\\nความยั่งยืนและความปลอดภัยของโครงสร้างเหล็กกล้า\\nAI in Atmospheric Corrosion Assessment and Corroison Map:\\nSteel Infrastructure Safety and Sustainability\\n การกัดกร่อนของเหล็กกล้าโครงสร้างใน\\nบรรยากาศขึ้นอยู่กับปัจจัยสภาพอากาศและ\\nสภาพแวดล้อม เอ็มเทค ศึกษาการกัดกร่อน\\nในบรรยากาศประเทศไทย เพื ่อสร้างฐาน\\nข้อมูลวัสดุกลุ่มเหล็ก โดยการทดสอบชิ้นงาน\\nตัวแทน และเก็บข้อมูลอากาศ พร้อมกับ\\nข้อมูลการกัดกร่อนผ่านเซนเซอร์วัดกระแส\\nไฟฟ้า และนําผลการวิจัยมาจัดทําระบบเว็บ\\nวิศวกรสามารถนําข้อมูลอัตราการกัดกร่อนจากแผนที ่การ\\nกัดกร่อนในปัจจุบัน ไปออกแบบโครงสร้างให้ทนต่อสภาพอากาศ\\nที่ใช้งานและวางแผนซ่อมบํารุง เพื่อความยั่งยืนและปลอดภัยของ\\nโครงสร้างเหล็กกล้า\\nประโยชน์ และการนําไปใช้\\nวิศวกรโยธา สถาปนิก ผู้ผลิตสีป้องกันสนิม ผู้ผลิตโครงสร้าง\\nเหล็ก และเหล็กชุบสังกะสี อุตสาหกรรมก่อสร้าง งานซ่อมบํารุง\\nโครงสร้างพื้นฐาน เช่น การรถไฟ กรมทางหลวง การไฟฟ้า \\nโรงงานอุตสาหกรรมบริเวณใกล้ชายทะเล\\nกลุ่มเป้าหมาย \\n• ทีมวิจัยเทคโนโลยีการกัดกร่อน พัฒนาเทคโนโลยีอย่างต่อเนื่อง\\nเพื่อการซ่อมบํารุงแบบคาดการณ์ (predictive maintenance) \\nมุ่งเน้นการออกแบบโครงสร้างเหล็กที่ยั่งยืนและปลอดภัย โดย\\nอาศัยข้อมูลจากแผนที่การกัดกร่อน \\n• การนํา machine learning มาประยุกต์ใช้ เพื่อช่วยในการเรียนรู้\\nชุดข้อมูลเซนเซอร์การกัดกร่อนและเซนเซอร์วัดสภาพอากาศ ทําให้\\nเข้าใจอิทธิพลของตัวแปรต่าง ๆ ในเชิงลึกมากขึ้น เพื่อปรับปรุง\\nแผนที่อัตราการกัดกร่อนให้แม่นยํามากยิ่งขึ้น\\n• เทคนิคการติดตามการกัดกร่อนและปัจจัยที่เกี่ยวข้องด้วยเซนเซอร์\\nร่วมกับการใช้ machine learning สามารถต่อยอดไปสู่บริบท\\nอื่น ๆ ในภาคอุตสาหกรรมได้ ทีมวิจัยมีความพร้อมให้คําปรึกษา \\nร่วมวิจัย และให้บริการแก่ภาคเอกชนหรือหน่วยงานที่มีความสนใจ\\nสถานการณ์วิจัย\\nดร.วนิดา พงศ์ศักดิ์สวัสดิ์ \\nทีมวิจัยเทคโนโลยีการกัดกร่อน (CTT) \\nกลุ่มวิจัยเทคโนโลยีระบบรางและการขนส่งสมัยใหม่ (RMT)\\nศูนย์เทคโนโลยีโลหะและวัสดุแห่งชาติ (MTEC)\\nเบอร์โทรศัพท์: 025646500 ต่อ 4756\\nE-mail: wanida.pon@mtec.or.th \\nติดต่อสอบถาม\\nแอพพลิเคชั่นแสดงข้อมูลแผนที่การกัดกร่อนเป็นครั้งแรกในประเทศไทย \\n ปัจจุบันได้ประยุกต์ใช้ปัญญาประดิษฐ์กับข้อมูลเซนเซอร์ภายใต้โครงการความร่วมมือระหว่าง CAS-NSTDA \\nในการทํานายอัตราการกัดกร่อนของเหล็กกล้าทนบรรยากาศด้วยข้อมูลจากจังหวัดสงขลา ได้ผลการทํานายอัตรา\\nการกัดกร่อนที่แม่นยํา และทราบอิทธิพลของตัวแปรที ่สําคัญ ได้แก่ ระยะเวลาใช้งาน อุณหภูมิ ความชื ้น และ\\nความเร็วลม สามารถต่อยอดเป็นแผนที ่การกัดกร่อนแบบ AI ทั ่วประเทศได้เมื่อมีการเก็บข้อมูลในบรรยากาศ\\nประเทศไทยเพิ่มเติม\\nThailand Corrosion Map web application\\nยกตัวอย่างเช่น จังหวัดภูเก็ต บริเวณติดทะเลทิศตะวันออกเฉียง\\nใต้ของเกาะ จะมีอัตราการกัดกร่อนของเหล็กกล้าคาร์บอน 222 ไมครอน\\nต่อปี (CX) วิศวกรควรคาดการณ์ความเร่งด่วนในการซ่อมบํารุง\\nประกอบกับข้อมูลด้านความแข็งแรงของโครงสร้าง  ในเชิงเศรษฐศาสตร์\\nอาจต้องคํานวณค่าบํารุงรักษาในระยะยาว เช่น เหล็กกล้าชุบสังกะสีผสม\\nอะลูมิเนียมหนา 60 ไมครอน จะมีอัตราการกัดกร่อนที่ช้าลง และยืดอายุ\\nการใช้งานได้ราว 60 ปี เป็นต้น\\nยกตัวอย่างเช่น จังหวัดภูเก็ต บริเวณติดทะเลทิศตะวันออกเฉียงใต้ของเกาะ จะ\\nมีอัตราการกัดกร่อนของเหล็กกล้าคาร์บอน 222 ไมครอนต่อปี (CX) สามารถใช้ข้อมูล\\nจากเว็บดังกล่าว ดังนี้ วิศวกรควรคาดการณ์ความเร่งด่วนในการซ่อมบํารุงประกอบกับ\\nข้อมูลด้านความแข็งแรงของโครงสร้าง  ในเชิงเศรษฐศาสตร์อาจต้องคํานวณค่าบํารุง\\nรักษาในระยะยาว เช่น เหล็กกล้าชุบสังกะสีผสมอะลูมิเนียมหนา 60 ไมครอน จะมีอัตรา\\nการกัดกร่อนที่ช้าลง และยืดอายุการใช้งานได้ราว 60 ปี เป็นต้น\\n', path=None, url=None, mimetype=None),\n",
              " 'image_resource': None,\n",
              " 'audio_resource': None,\n",
              " 'video_resource': None,\n",
              " 'text_template': '{metadata_str}\\n\\n{content}'}"
            ]
          },
          "metadata": {},
          "execution_count": 10
        }
      ]
    },
    {
      "cell_type": "code",
      "source": [
        "from llama_index.core.node_parser import SentenceSplitter\n",
        "from llama_index.core.ingestion import IngestionPipeline\n",
        "\n",
        "# ตั้งค่าให้แยกเอกสารเป็น chunk ย่อย ๆ\n",
        "text_splitter = SentenceSplitter(\n",
        "    separator=\" \",       # ใช้เว้นวรรคเป็นตัวแยก\n",
        "    chunk_size=1024,     # ขนาดของแต่ละ chunk (จำนวนตัวอักษร)\n",
        "    chunk_overlap=128    # ความซ้อนของข้อความระหว่างแต่ละ chunk\n",
        ")\n",
        "\n",
        "# สร้าง ingestion pipeline ที่ประกอบด้วย text_splitter\n",
        "pipeline = IngestionPipeline(\n",
        "    transformations=[\n",
        "        text_splitter,\n",
        "    ]\n",
        ")\n",
        "\n",
        "# รัน pipeline กับเอกสารที่โหลดไว้ เพื่อแยกเป็น chunks\n",
        "nodes = pipeline.run(\n",
        "    documents=docs,\n",
        "    in_place=True,       # แก้ไขเอกสารเดิมแทนที่จะสร้างใหม่\n",
        "    show_progress=True,  # แสดง progress bar ขณะรัน\n",
        ")\n"
      ],
      "metadata": {
        "colab": {
          "base_uri": "https://localhost:8080/",
          "height": 49,
          "referenced_widgets": [
            "49064fa76e5d4a0abce451efa240ba33",
            "a95811016d104c1f904233c21166ff38",
            "b159fee4731747e69707971031642b9f",
            "3bc09dcabc4140d6abc43ffe533fc889",
            "1909a59d6af849a288b03452102dcefb",
            "52317a40f795428eb294b58680d69200",
            "056ead40a62140e7b9b1fcffc3dcb015",
            "e5dd075bf3b2465c919ffc64689b496e",
            "f6f5cf4580354213a237c58d0cca6e4e",
            "e47b4a780857400d87c8bcfdb7e3cbfb",
            "81db0b41c3264d8ea655b3ae8f8ff7b3"
          ]
        },
        "id": "yxKNMTlyY-yF",
        "outputId": "a18ec2f1-74bb-49ca-aa5f-7df27e07e3e7"
      },
      "id": "yxKNMTlyY-yF",
      "execution_count": 11,
      "outputs": [
        {
          "output_type": "display_data",
          "data": {
            "text/plain": [
              "Parsing nodes:   0%|          | 0/4 [00:00<?, ?it/s]"
            ],
            "application/vnd.jupyter.widget-view+json": {
              "version_major": 2,
              "version_minor": 0,
              "model_id": "49064fa76e5d4a0abce451efa240ba33"
            }
          },
          "metadata": {}
        }
      ]
    },
    {
      "cell_type": "code",
      "source": [
        "nodes[2].__dict__"
      ],
      "metadata": {
        "colab": {
          "base_uri": "https://localhost:8080/"
        },
        "id": "MtmcMOINZEHC",
        "outputId": "28fe6922-bf7e-4530-d10c-29e617342d53"
      },
      "id": "MtmcMOINZEHC",
      "execution_count": 12,
      "outputs": [
        {
          "output_type": "execute_result",
          "data": {
            "text/plain": [
              "{'id_': '15bbd20d-9003-44fb-a29c-a60aa747a868',\n",
              " 'embedding': None,\n",
              " 'metadata': {'page_label': '1',\n",
              "  'file_name': '1.pdf',\n",
              "  'file_path': '/content/data/1.pdf',\n",
              "  'file_type': 'application/pdf',\n",
              "  'file_size': 3857399,\n",
              "  'creation_date': '2025-03-26',\n",
              "  'last_modified_date': '2025-03-19'},\n",
              " 'excluded_embed_metadata_keys': ['file_name',\n",
              "  'file_type',\n",
              "  'file_size',\n",
              "  'creation_date',\n",
              "  'last_modified_date',\n",
              "  'last_accessed_date'],\n",
              " 'excluded_llm_metadata_keys': ['file_name',\n",
              "  'file_type',\n",
              "  'file_size',\n",
              "  'creation_date',\n",
              "  'last_modified_date',\n",
              "  'last_accessed_date'],\n",
              " 'relationships': {<NodeRelationship.SOURCE: '1'>: RelatedNodeInfo(node_id='26bc04ae-b98a-41b6-abb5-8221713b345e', node_type=<ObjectType.DOCUMENT: '4'>, metadata={'page_label': '1', 'file_name': '1.pdf', 'file_path': '/content/data/1.pdf', 'file_type': 'application/pdf', 'file_size': 3857399, 'creation_date': '2025-03-26', 'last_modified_date': '2025-03-19'}, hash='15f2b4952c5a1f9e8a056601aa9dae77c9d3688a1f8d74f91286a017d0fb7fb8'),\n",
              "  <NodeRelationship.PREVIOUS: '2'>: RelatedNodeInfo(node_id='f5edf0e0-9792-4f90-b814-4187b3e12125', node_type=<ObjectType.TEXT: '1'>, metadata={'page_label': '1', 'file_name': '1.pdf', 'file_path': '/content/data/1.pdf', 'file_type': 'application/pdf', 'file_size': 3857399, 'creation_date': '2025-03-26', 'last_modified_date': '2025-03-19'}, hash='386c6f2683a02ca79af1b76a34e0beb68a26092b87c464361ad871fe211c50c3'),\n",
              "  <NodeRelationship.NEXT: '3'>: RelatedNodeInfo(node_id='63dbb92a-1ae9-4480-9cdb-addd85263749', node_type=<ObjectType.TEXT: '1'>, metadata={}, hash='acc9627e2a3df3180020762aac5c71ff901fdbdc66527527cfd52cae8fff85f4')},\n",
              " 'metadata_template': '{key}: {value}',\n",
              " 'metadata_separator': '\\n',\n",
              " 'text': 'ได้ผลการทํานายอัตรา\\nการกัดกร่อนที่แม่นยํา และทราบอิทธิพลของตัวแปรที ่สําคัญ ได้แก่ ระยะเวลาใช้งาน อุณหภูมิ ความชื ้น และ\\nความเร็วลม สามารถต่อยอดเป็นแผนที ่การกัดกร่อนแบบ AI ทั ่วประเทศได้เมื่อมีการเก็บข้อมูลในบรรยากาศ\\nประเทศไทยเพิ่มเติม\\nThailand Corrosion Map web application\\nยกตัวอย่างเช่น จังหวัดภูเก็ต บริเวณติดทะเลทิศตะวันออกเฉียง\\nใต้ของเกาะ จะมีอัตราการกัดกร่อนของเหล็กกล้าคาร์บอน 222 ไมครอน\\nต่อปี (CX) วิศวกรควรคาดการณ์ความเร่งด่วนในการซ่อมบํารุง\\nประกอบกับข้อมูลด้านความแข็งแรงของโครงสร้าง  ในเชิงเศรษฐศาสตร์\\nอาจต้องคํานวณค่าบํารุงรักษาในระยะยาว เช่น เหล็กกล้าชุบสังกะสีผสม\\nอะลูมิเนียมหนา 60 ไมครอน จะมีอัตราการกัดกร่อนที่ช้าลง และยืดอายุ\\nการใช้งานได้ราว 60 ปี เป็นต้น\\nยกตัวอย่างเช่น จังหวัดภูเก็ต บริเวณติดทะเลทิศตะวันออกเฉียงใต้ของเกาะ จะ\\nมีอัตราการกัดกร่อนของเหล็กกล้าคาร์บอน 222 ไมครอนต่อปี (CX) สามารถใช้ข้อมูล\\nจากเว็บดังกล่าว ดังนี้ วิศวกรควรคาดการณ์ความเร่งด่วนในการซ่อมบํารุงประกอบกับ\\nข้อมูลด้านความแข็งแรงของโครงสร้าง  ในเชิงเศรษฐศาสตร์อาจต้องคํานวณค่าบํารุง\\nรักษาในระยะยาว เช่น เหล็กกล้าชุบสังกะสีผสมอะลูมิเนียมหนา 60 ไมครอน จะมีอัตรา\\nการกัดกร่อนที่ช้าลง และยืดอายุการใช้งานได้ราว 60 ปี',\n",
              " 'mimetype': 'text/plain',\n",
              " 'start_char_idx': 2097,\n",
              " 'end_char_idx': 3199,\n",
              " 'metadata_seperator': '\\n',\n",
              " 'text_template': '{metadata_str}\\n\\n{content}'}"
            ]
          },
          "metadata": {},
          "execution_count": 12
        }
      ]
    },
    {
      "cell_type": "code",
      "source": [
        "# ใช้โมเดล HuggingFace สำหรับสร้าง embedding\n",
        "hf_embeddings = HuggingFaceEmbedding(model_name=\"BAAI/bge-m3\")"
      ],
      "metadata": {
        "colab": {
          "base_uri": "https://localhost:8080/"
        },
        "id": "dahLgsHtW8M6",
        "outputId": "8626e706-8437-4cab-ef5e-e96f9f705962"
      },
      "id": "dahLgsHtW8M6",
      "execution_count": 13,
      "outputs": [
        {
          "output_type": "stream",
          "name": "stderr",
          "text": [
            "/usr/local/lib/python3.11/dist-packages/huggingface_hub/utils/_auth.py:94: UserWarning: \n",
            "The secret `HF_TOKEN` does not exist in your Colab secrets.\n",
            "To authenticate with the Hugging Face Hub, create a token in your settings tab (https://huggingface.co/settings/tokens), set it as secret in your Google Colab and restart your session.\n",
            "You will be able to reuse this secret in all of your notebooks.\n",
            "Please note that authentication is recommended but still optional to access public models or datasets.\n",
            "  warnings.warn(\n"
          ]
        }
      ]
    },
    {
      "cell_type": "code",
      "source": [
        "# เริ่มต้น client ของ ChromaDB และสร้าง collection สำหรับเก็บเวกเตอร์\n",
        "db = chromadb.PersistentClient(path=\"./chroma_db\")\n",
        "chroma_collection = db.get_or_create_collection(\"rag_demo\")\n",
        "vector_store = ChromaVectorStore(chroma_collection=chroma_collection)\n",
        "\n",
        "# สร้าง storage context สำหรับบันทึกข้อมูล\n",
        "storage_context = StorageContext.from_defaults(vector_store=vector_store)\n",
        "\n",
        "# สร้าง index จากเอกสาร โดยใช้ embedding ที่เรากำหนด\n",
        "index = VectorStoreIndex(\n",
        "    nodes=nodes, storage_context=storage_context, embed_model=hf_embeddings,show_progress=True,  # แสดง progress bar ขณะรัน\n",
        ")"
      ],
      "metadata": {
        "colab": {
          "base_uri": "https://localhost:8080/",
          "height": 49,
          "referenced_widgets": [
            "d6319e769d86492ea8d72ffb0400b149",
            "4b59564f9c2147ef87b015fc42c49254",
            "47101fcb45654a48b47c64be7130c702",
            "520f22d063f14bc0928aea2ab524653d",
            "5ea83b6fa23a46398f1a0f7638729bcc",
            "15ee7b9b7440499aa0e7f7bdb72e51bf",
            "6e67516ce25c4bc3bc175b55ff501466",
            "d0b3df7be0d84f2aaf8c2e3b0ee172af",
            "e863d90fda234fcfacc51a5ce1a7cdc9",
            "4331c90802b542ca851a4a70c5989b39",
            "3b7036e07f7c4bf283b105920ac24146"
          ]
        },
        "id": "G3bG9NbyYM6d",
        "outputId": "75f17120-a888-4252-abbc-08462004ee24"
      },
      "id": "G3bG9NbyYM6d",
      "execution_count": 14,
      "outputs": [
        {
          "output_type": "display_data",
          "data": {
            "text/plain": [
              "Generating embeddings:   0%|          | 0/9 [00:00<?, ?it/s]"
            ],
            "application/vnd.jupyter.widget-view+json": {
              "version_major": 2,
              "version_minor": 0,
              "model_id": "d6319e769d86492ea8d72ffb0400b149"
            }
          },
          "metadata": {}
        }
      ]
    },
    {
      "cell_type": "code",
      "source": [
        "# สร้าง query engine สำหรับถามคำถามจาก index\n",
        "query_engine = index.as_query_engine(llm=llm)"
      ],
      "metadata": {
        "id": "6pQOJDCTYKSM"
      },
      "id": "6pQOJDCTYKSM",
      "execution_count": 15,
      "outputs": []
    },
    {
      "cell_type": "code",
      "source": [
        "# ตั้งคำถามที่ต้องการ\n",
        "question = \"ช้างไทยมีลักษณะอย่างไร\"\n",
        "\n",
        "# ใช้ query_engine ในการค้นหาคำตอบจากข้อมูลใน index\n",
        "response = query_engine.query(question)\n",
        "\n",
        "# แสดงผลลัพธ์\n",
        "print(\"คำถาม:\", question)\n",
        "print(\"คำตอบ:\", response)\n"
      ],
      "metadata": {
        "colab": {
          "base_uri": "https://localhost:8080/"
        },
        "id": "WHTpjr66Z3hU",
        "outputId": "46ab0ac9-1a44-4fcf-f90a-846391230505"
      },
      "id": "WHTpjr66Z3hU",
      "execution_count": 16,
      "outputs": [
        {
          "output_type": "stream",
          "name": "stdout",
          "text": [
            "คำถาม: ช้างไทยมีลักษณะอย่างไร\n",
            "คำตอบ: \n",
            "ช้างไทยมีความสูงประมาณ 2.5 - 3.2 เมตร และมีน้ำหนัก 2,700 - 4,500 กิโลกรัม มีอายุขัยอยู่ที่ 60 - 80 ปี มีหัวเป็นโค้ง คอหนา และหูขนาดเล็กกว่าช้างแอฟริกา พวกมันกินพืช หญ้า ใบไม้ ผลไม้ และเปลือกไม้ ได้ถึง 150 กิโลกรัมต่อวัน\n"
          ]
        }
      ]
    },
    {
      "cell_type": "code",
      "source": [
        "# แสดงแหล่งอ้างอิง (เช่น ชื่อไฟล์ หรือเนื้อหาบางส่วนที่เกี่ยวข้อง)\n",
        "for node in response.source_nodes:\n",
        "    print(\"--- แหล่งข้อมูลที่ใช้ ---\")\n",
        "    print(node.node.text[:300])  # แสดงเฉพาะ 300 ตัวอักษรแรก\n"
      ],
      "metadata": {
        "colab": {
          "base_uri": "https://localhost:8080/"
        },
        "id": "dJzr3QomaIOO",
        "outputId": "beb2c3e6-3995-48a3-b3a2-0be2ef524f98"
      },
      "id": "dJzr3QomaIOO",
      "execution_count": 17,
      "outputs": [
        {
          "output_type": "stream",
          "name": "stdout",
          "text": [
            "--- แหล่งข้อมูลที่ใช้ ---\n",
            "## ความรู้เกี่ยวกับช้างไทย\n",
            "\n",
            "### 1. ช้างไทยคืออะไร?\n",
            "ช้างไทย (Asian Elephant - Elephas maximus) เป็นสัตว์สัญลักษณ์ของประเทศไทยและมีบทบาทสำคัญทั้งในวัฒนธรรม ประวัติศาสตร์ และเศรษฐกิจของประเทศ โดยช้างไทยจัดอยู่ในกลุ่มช้างเอเชีย ซึ่งมีขนาดเล็กกว่าช้างแอฟริกา และมีลักษณะเฉพาะที่แตกต่างกัน เช่น หัวเป็นโค้ง\n"
          ]
        }
      ]
    },
    {
      "cell_type": "markdown",
      "id": "be671ea0",
      "metadata": {
        "id": "be671ea0"
      },
      "source": [
        "## ✅ ขั้นตอนที่ 3: สร้าง FastAPI endpoint สำหรับทำการค้นหา"
      ]
    },
    {
      "cell_type": "code",
      "source": [
        "NGROK_AUTH_TOKEN = \"\"\n",
        "APPLICATION_PORT = 5000\n",
        "NGROK_EDGE = \"edge:edghts_\""
      ],
      "metadata": {
        "id": "XOvuWMIPehYH"
      },
      "id": "XOvuWMIPehYH",
      "execution_count": 18,
      "outputs": []
    },
    {
      "cell_type": "code",
      "execution_count": 20,
      "id": "fad9acbe",
      "metadata": {
        "colab": {
          "base_uri": "https://localhost:8080/"
        },
        "id": "fad9acbe",
        "outputId": "ee37496f-6f9c-4dc9-eac3-81e36134bc92"
      },
      "outputs": [
        {
          "output_type": "stream",
          "name": "stderr",
          "text": [
            "INFO:     Started server process [9690]\n",
            "INFO:     Waiting for application startup.\n",
            "INFO:     Application startup complete.\n",
            "INFO:     Uvicorn running on http://0.0.0.0:5000 (Press CTRL+C to quit)\n"
          ]
        },
        {
          "output_type": "stream",
          "name": "stdout",
          "text": [
            "🔗 FastAPI endpoint: NgrokTunnel: \"https://87d3-35-231-44-44.ngrok-free.app\" -> \"http://localhost:5000\"/search\n"
          ]
        }
      ],
      "source": [
        "import os\n",
        "import nest_asyncio\n",
        "import threading\n",
        "from fastapi import FastAPI\n",
        "from pydantic import BaseModel\n",
        "from pyngrok import ngrok\n",
        "\n",
        "# 🔐 ใส่ ngrok token ตรงนี้ (จาก https://dashboard.ngrok.com)\n",
        "ngrok.set_auth_token(NGROK_AUTH_TOKEN)\n",
        "\n",
        "# สร้าง FastAPI\n",
        "app = FastAPI()\n",
        "\n",
        "class QueryRequest(BaseModel):\n",
        "    query: str\n",
        "\n",
        "@app.post(\"/search\")\n",
        "def search(request: QueryRequest):\n",
        "    response = query_engine.query(request.query)\n",
        "    return {\"query\": request.query, \"response\": str(response)}\n",
        "\n",
        "# รัน FastAPI บน Colab\n",
        "nest_asyncio.apply()\n",
        "\n",
        "def run():\n",
        "    import uvicorn\n",
        "    from uvicorn import Config, Server\n",
        "    config = Config(app=app, host=\"0.0.0.0\", port=5000, log_level=\"info\")\n",
        "    server = Server(config)\n",
        "\n",
        "    import asyncio\n",
        "    loop = asyncio.get_event_loop()\n",
        "    loop.run_until_complete(server.serve())\n",
        "\n",
        "# รันใน thread\n",
        "threading.Thread(target=run).start()\n",
        "\n",
        "# เปิด ngrok\n",
        "public_url = ngrok.connect(5000)\n",
        "print(f\"🔗 FastAPI endpoint: {public_url}/search\")\n"
      ]
    },
    {
      "cell_type": "markdown",
      "id": "b3d8c2f3",
      "metadata": {
        "id": "b3d8c2f3"
      },
      "source": [
        "## ✅ วิธีทดลองใช้งาน API"
      ]
    },
    {
      "cell_type": "code",
      "execution_count": 23,
      "id": "ab839b60",
      "metadata": {
        "colab": {
          "base_uri": "https://localhost:8080/"
        },
        "id": "ab839b60",
        "outputId": "416d0783-0c76-4130-a879-1efd0ec057f3"
      },
      "outputs": [
        {
          "output_type": "stream",
          "name": "stdout",
          "text": [
            "INFO:     35.231.44.44:0 - \"POST /search HTTP/1.1\" 200 OK\n",
            "{\"query\":\"ช้างไทยกินอะไร\",\"response\":\"\\nช้างไทยกินพืช หญ้า ใบไม้ ผลไม้ และเปลือกไม้ ได้มากถึง 150 กิโลกรัมต่อวัน\"}"
          ]
        }
      ],
      "source": [
        "# ตัวอย่างคำสั่ง curl สำหรับเรียกใช้งาน API ที่ได้จาก ngrok\n",
        "# อย่าลืมแทนที่ URL ด้านล่างด้วยลิงก์ที่ได้จาก ngrok\n",
        "\n",
        "!curl -X POST https://87d3-35-231-44-44.ngrok-free.app/search \\\n",
        "  -H \"Content-Type: application/json\" \\\n",
        "  -d '{\"query\": \"ช้างไทยกินอะไร\"}'\n"
      ]
    }
  ],
  "metadata": {
    "colab": {
      "provenance": []
    },
    "language_info": {
      "name": "python"
    },
    "kernelspec": {
      "name": "python3",
      "display_name": "Python 3"
    },
    "widgets": {
      "application/vnd.jupyter.widget-state+json": {
        "49064fa76e5d4a0abce451efa240ba33": {
          "model_module": "@jupyter-widgets/controls",
          "model_name": "HBoxModel",
          "model_module_version": "1.5.0",
          "state": {
            "_dom_classes": [],
            "_model_module": "@jupyter-widgets/controls",
            "_model_module_version": "1.5.0",
            "_model_name": "HBoxModel",
            "_view_count": null,
            "_view_module": "@jupyter-widgets/controls",
            "_view_module_version": "1.5.0",
            "_view_name": "HBoxView",
            "box_style": "",
            "children": [
              "IPY_MODEL_a95811016d104c1f904233c21166ff38",
              "IPY_MODEL_b159fee4731747e69707971031642b9f",
              "IPY_MODEL_3bc09dcabc4140d6abc43ffe533fc889"
            ],
            "layout": "IPY_MODEL_1909a59d6af849a288b03452102dcefb"
          }
        },
        "a95811016d104c1f904233c21166ff38": {
          "model_module": "@jupyter-widgets/controls",
          "model_name": "HTMLModel",
          "model_module_version": "1.5.0",
          "state": {
            "_dom_classes": [],
            "_model_module": "@jupyter-widgets/controls",
            "_model_module_version": "1.5.0",
            "_model_name": "HTMLModel",
            "_view_count": null,
            "_view_module": "@jupyter-widgets/controls",
            "_view_module_version": "1.5.0",
            "_view_name": "HTMLView",
            "description": "",
            "description_tooltip": null,
            "layout": "IPY_MODEL_52317a40f795428eb294b58680d69200",
            "placeholder": "​",
            "style": "IPY_MODEL_056ead40a62140e7b9b1fcffc3dcb015",
            "value": "Parsing nodes: 100%"
          }
        },
        "b159fee4731747e69707971031642b9f": {
          "model_module": "@jupyter-widgets/controls",
          "model_name": "FloatProgressModel",
          "model_module_version": "1.5.0",
          "state": {
            "_dom_classes": [],
            "_model_module": "@jupyter-widgets/controls",
            "_model_module_version": "1.5.0",
            "_model_name": "FloatProgressModel",
            "_view_count": null,
            "_view_module": "@jupyter-widgets/controls",
            "_view_module_version": "1.5.0",
            "_view_name": "ProgressView",
            "bar_style": "success",
            "description": "",
            "description_tooltip": null,
            "layout": "IPY_MODEL_e5dd075bf3b2465c919ffc64689b496e",
            "max": 4,
            "min": 0,
            "orientation": "horizontal",
            "style": "IPY_MODEL_f6f5cf4580354213a237c58d0cca6e4e",
            "value": 4
          }
        },
        "3bc09dcabc4140d6abc43ffe533fc889": {
          "model_module": "@jupyter-widgets/controls",
          "model_name": "HTMLModel",
          "model_module_version": "1.5.0",
          "state": {
            "_dom_classes": [],
            "_model_module": "@jupyter-widgets/controls",
            "_model_module_version": "1.5.0",
            "_model_name": "HTMLModel",
            "_view_count": null,
            "_view_module": "@jupyter-widgets/controls",
            "_view_module_version": "1.5.0",
            "_view_name": "HTMLView",
            "description": "",
            "description_tooltip": null,
            "layout": "IPY_MODEL_e47b4a780857400d87c8bcfdb7e3cbfb",
            "placeholder": "​",
            "style": "IPY_MODEL_81db0b41c3264d8ea655b3ae8f8ff7b3",
            "value": " 4/4 [00:00&lt;00:00, 85.38it/s]"
          }
        },
        "1909a59d6af849a288b03452102dcefb": {
          "model_module": "@jupyter-widgets/base",
          "model_name": "LayoutModel",
          "model_module_version": "1.2.0",
          "state": {
            "_model_module": "@jupyter-widgets/base",
            "_model_module_version": "1.2.0",
            "_model_name": "LayoutModel",
            "_view_count": null,
            "_view_module": "@jupyter-widgets/base",
            "_view_module_version": "1.2.0",
            "_view_name": "LayoutView",
            "align_content": null,
            "align_items": null,
            "align_self": null,
            "border": null,
            "bottom": null,
            "display": null,
            "flex": null,
            "flex_flow": null,
            "grid_area": null,
            "grid_auto_columns": null,
            "grid_auto_flow": null,
            "grid_auto_rows": null,
            "grid_column": null,
            "grid_gap": null,
            "grid_row": null,
            "grid_template_areas": null,
            "grid_template_columns": null,
            "grid_template_rows": null,
            "height": null,
            "justify_content": null,
            "justify_items": null,
            "left": null,
            "margin": null,
            "max_height": null,
            "max_width": null,
            "min_height": null,
            "min_width": null,
            "object_fit": null,
            "object_position": null,
            "order": null,
            "overflow": null,
            "overflow_x": null,
            "overflow_y": null,
            "padding": null,
            "right": null,
            "top": null,
            "visibility": null,
            "width": null
          }
        },
        "52317a40f795428eb294b58680d69200": {
          "model_module": "@jupyter-widgets/base",
          "model_name": "LayoutModel",
          "model_module_version": "1.2.0",
          "state": {
            "_model_module": "@jupyter-widgets/base",
            "_model_module_version": "1.2.0",
            "_model_name": "LayoutModel",
            "_view_count": null,
            "_view_module": "@jupyter-widgets/base",
            "_view_module_version": "1.2.0",
            "_view_name": "LayoutView",
            "align_content": null,
            "align_items": null,
            "align_self": null,
            "border": null,
            "bottom": null,
            "display": null,
            "flex": null,
            "flex_flow": null,
            "grid_area": null,
            "grid_auto_columns": null,
            "grid_auto_flow": null,
            "grid_auto_rows": null,
            "grid_column": null,
            "grid_gap": null,
            "grid_row": null,
            "grid_template_areas": null,
            "grid_template_columns": null,
            "grid_template_rows": null,
            "height": null,
            "justify_content": null,
            "justify_items": null,
            "left": null,
            "margin": null,
            "max_height": null,
            "max_width": null,
            "min_height": null,
            "min_width": null,
            "object_fit": null,
            "object_position": null,
            "order": null,
            "overflow": null,
            "overflow_x": null,
            "overflow_y": null,
            "padding": null,
            "right": null,
            "top": null,
            "visibility": null,
            "width": null
          }
        },
        "056ead40a62140e7b9b1fcffc3dcb015": {
          "model_module": "@jupyter-widgets/controls",
          "model_name": "DescriptionStyleModel",
          "model_module_version": "1.5.0",
          "state": {
            "_model_module": "@jupyter-widgets/controls",
            "_model_module_version": "1.5.0",
            "_model_name": "DescriptionStyleModel",
            "_view_count": null,
            "_view_module": "@jupyter-widgets/base",
            "_view_module_version": "1.2.0",
            "_view_name": "StyleView",
            "description_width": ""
          }
        },
        "e5dd075bf3b2465c919ffc64689b496e": {
          "model_module": "@jupyter-widgets/base",
          "model_name": "LayoutModel",
          "model_module_version": "1.2.0",
          "state": {
            "_model_module": "@jupyter-widgets/base",
            "_model_module_version": "1.2.0",
            "_model_name": "LayoutModel",
            "_view_count": null,
            "_view_module": "@jupyter-widgets/base",
            "_view_module_version": "1.2.0",
            "_view_name": "LayoutView",
            "align_content": null,
            "align_items": null,
            "align_self": null,
            "border": null,
            "bottom": null,
            "display": null,
            "flex": null,
            "flex_flow": null,
            "grid_area": null,
            "grid_auto_columns": null,
            "grid_auto_flow": null,
            "grid_auto_rows": null,
            "grid_column": null,
            "grid_gap": null,
            "grid_row": null,
            "grid_template_areas": null,
            "grid_template_columns": null,
            "grid_template_rows": null,
            "height": null,
            "justify_content": null,
            "justify_items": null,
            "left": null,
            "margin": null,
            "max_height": null,
            "max_width": null,
            "min_height": null,
            "min_width": null,
            "object_fit": null,
            "object_position": null,
            "order": null,
            "overflow": null,
            "overflow_x": null,
            "overflow_y": null,
            "padding": null,
            "right": null,
            "top": null,
            "visibility": null,
            "width": null
          }
        },
        "f6f5cf4580354213a237c58d0cca6e4e": {
          "model_module": "@jupyter-widgets/controls",
          "model_name": "ProgressStyleModel",
          "model_module_version": "1.5.0",
          "state": {
            "_model_module": "@jupyter-widgets/controls",
            "_model_module_version": "1.5.0",
            "_model_name": "ProgressStyleModel",
            "_view_count": null,
            "_view_module": "@jupyter-widgets/base",
            "_view_module_version": "1.2.0",
            "_view_name": "StyleView",
            "bar_color": null,
            "description_width": ""
          }
        },
        "e47b4a780857400d87c8bcfdb7e3cbfb": {
          "model_module": "@jupyter-widgets/base",
          "model_name": "LayoutModel",
          "model_module_version": "1.2.0",
          "state": {
            "_model_module": "@jupyter-widgets/base",
            "_model_module_version": "1.2.0",
            "_model_name": "LayoutModel",
            "_view_count": null,
            "_view_module": "@jupyter-widgets/base",
            "_view_module_version": "1.2.0",
            "_view_name": "LayoutView",
            "align_content": null,
            "align_items": null,
            "align_self": null,
            "border": null,
            "bottom": null,
            "display": null,
            "flex": null,
            "flex_flow": null,
            "grid_area": null,
            "grid_auto_columns": null,
            "grid_auto_flow": null,
            "grid_auto_rows": null,
            "grid_column": null,
            "grid_gap": null,
            "grid_row": null,
            "grid_template_areas": null,
            "grid_template_columns": null,
            "grid_template_rows": null,
            "height": null,
            "justify_content": null,
            "justify_items": null,
            "left": null,
            "margin": null,
            "max_height": null,
            "max_width": null,
            "min_height": null,
            "min_width": null,
            "object_fit": null,
            "object_position": null,
            "order": null,
            "overflow": null,
            "overflow_x": null,
            "overflow_y": null,
            "padding": null,
            "right": null,
            "top": null,
            "visibility": null,
            "width": null
          }
        },
        "81db0b41c3264d8ea655b3ae8f8ff7b3": {
          "model_module": "@jupyter-widgets/controls",
          "model_name": "DescriptionStyleModel",
          "model_module_version": "1.5.0",
          "state": {
            "_model_module": "@jupyter-widgets/controls",
            "_model_module_version": "1.5.0",
            "_model_name": "DescriptionStyleModel",
            "_view_count": null,
            "_view_module": "@jupyter-widgets/base",
            "_view_module_version": "1.2.0",
            "_view_name": "StyleView",
            "description_width": ""
          }
        },
        "d6319e769d86492ea8d72ffb0400b149": {
          "model_module": "@jupyter-widgets/controls",
          "model_name": "HBoxModel",
          "model_module_version": "1.5.0",
          "state": {
            "_dom_classes": [],
            "_model_module": "@jupyter-widgets/controls",
            "_model_module_version": "1.5.0",
            "_model_name": "HBoxModel",
            "_view_count": null,
            "_view_module": "@jupyter-widgets/controls",
            "_view_module_version": "1.5.0",
            "_view_name": "HBoxView",
            "box_style": "",
            "children": [
              "IPY_MODEL_4b59564f9c2147ef87b015fc42c49254",
              "IPY_MODEL_47101fcb45654a48b47c64be7130c702",
              "IPY_MODEL_520f22d063f14bc0928aea2ab524653d"
            ],
            "layout": "IPY_MODEL_5ea83b6fa23a46398f1a0f7638729bcc"
          }
        },
        "4b59564f9c2147ef87b015fc42c49254": {
          "model_module": "@jupyter-widgets/controls",
          "model_name": "HTMLModel",
          "model_module_version": "1.5.0",
          "state": {
            "_dom_classes": [],
            "_model_module": "@jupyter-widgets/controls",
            "_model_module_version": "1.5.0",
            "_model_name": "HTMLModel",
            "_view_count": null,
            "_view_module": "@jupyter-widgets/controls",
            "_view_module_version": "1.5.0",
            "_view_name": "HTMLView",
            "description": "",
            "description_tooltip": null,
            "layout": "IPY_MODEL_15ee7b9b7440499aa0e7f7bdb72e51bf",
            "placeholder": "​",
            "style": "IPY_MODEL_6e67516ce25c4bc3bc175b55ff501466",
            "value": "Generating embeddings: 100%"
          }
        },
        "47101fcb45654a48b47c64be7130c702": {
          "model_module": "@jupyter-widgets/controls",
          "model_name": "FloatProgressModel",
          "model_module_version": "1.5.0",
          "state": {
            "_dom_classes": [],
            "_model_module": "@jupyter-widgets/controls",
            "_model_module_version": "1.5.0",
            "_model_name": "FloatProgressModel",
            "_view_count": null,
            "_view_module": "@jupyter-widgets/controls",
            "_view_module_version": "1.5.0",
            "_view_name": "ProgressView",
            "bar_style": "success",
            "description": "",
            "description_tooltip": null,
            "layout": "IPY_MODEL_d0b3df7be0d84f2aaf8c2e3b0ee172af",
            "max": 9,
            "min": 0,
            "orientation": "horizontal",
            "style": "IPY_MODEL_e863d90fda234fcfacc51a5ce1a7cdc9",
            "value": 9
          }
        },
        "520f22d063f14bc0928aea2ab524653d": {
          "model_module": "@jupyter-widgets/controls",
          "model_name": "HTMLModel",
          "model_module_version": "1.5.0",
          "state": {
            "_dom_classes": [],
            "_model_module": "@jupyter-widgets/controls",
            "_model_module_version": "1.5.0",
            "_model_name": "HTMLModel",
            "_view_count": null,
            "_view_module": "@jupyter-widgets/controls",
            "_view_module_version": "1.5.0",
            "_view_name": "HTMLView",
            "description": "",
            "description_tooltip": null,
            "layout": "IPY_MODEL_4331c90802b542ca851a4a70c5989b39",
            "placeholder": "​",
            "style": "IPY_MODEL_3b7036e07f7c4bf283b105920ac24146",
            "value": " 9/9 [00:45&lt;00:00,  5.07s/it]"
          }
        },
        "5ea83b6fa23a46398f1a0f7638729bcc": {
          "model_module": "@jupyter-widgets/base",
          "model_name": "LayoutModel",
          "model_module_version": "1.2.0",
          "state": {
            "_model_module": "@jupyter-widgets/base",
            "_model_module_version": "1.2.0",
            "_model_name": "LayoutModel",
            "_view_count": null,
            "_view_module": "@jupyter-widgets/base",
            "_view_module_version": "1.2.0",
            "_view_name": "LayoutView",
            "align_content": null,
            "align_items": null,
            "align_self": null,
            "border": null,
            "bottom": null,
            "display": null,
            "flex": null,
            "flex_flow": null,
            "grid_area": null,
            "grid_auto_columns": null,
            "grid_auto_flow": null,
            "grid_auto_rows": null,
            "grid_column": null,
            "grid_gap": null,
            "grid_row": null,
            "grid_template_areas": null,
            "grid_template_columns": null,
            "grid_template_rows": null,
            "height": null,
            "justify_content": null,
            "justify_items": null,
            "left": null,
            "margin": null,
            "max_height": null,
            "max_width": null,
            "min_height": null,
            "min_width": null,
            "object_fit": null,
            "object_position": null,
            "order": null,
            "overflow": null,
            "overflow_x": null,
            "overflow_y": null,
            "padding": null,
            "right": null,
            "top": null,
            "visibility": null,
            "width": null
          }
        },
        "15ee7b9b7440499aa0e7f7bdb72e51bf": {
          "model_module": "@jupyter-widgets/base",
          "model_name": "LayoutModel",
          "model_module_version": "1.2.0",
          "state": {
            "_model_module": "@jupyter-widgets/base",
            "_model_module_version": "1.2.0",
            "_model_name": "LayoutModel",
            "_view_count": null,
            "_view_module": "@jupyter-widgets/base",
            "_view_module_version": "1.2.0",
            "_view_name": "LayoutView",
            "align_content": null,
            "align_items": null,
            "align_self": null,
            "border": null,
            "bottom": null,
            "display": null,
            "flex": null,
            "flex_flow": null,
            "grid_area": null,
            "grid_auto_columns": null,
            "grid_auto_flow": null,
            "grid_auto_rows": null,
            "grid_column": null,
            "grid_gap": null,
            "grid_row": null,
            "grid_template_areas": null,
            "grid_template_columns": null,
            "grid_template_rows": null,
            "height": null,
            "justify_content": null,
            "justify_items": null,
            "left": null,
            "margin": null,
            "max_height": null,
            "max_width": null,
            "min_height": null,
            "min_width": null,
            "object_fit": null,
            "object_position": null,
            "order": null,
            "overflow": null,
            "overflow_x": null,
            "overflow_y": null,
            "padding": null,
            "right": null,
            "top": null,
            "visibility": null,
            "width": null
          }
        },
        "6e67516ce25c4bc3bc175b55ff501466": {
          "model_module": "@jupyter-widgets/controls",
          "model_name": "DescriptionStyleModel",
          "model_module_version": "1.5.0",
          "state": {
            "_model_module": "@jupyter-widgets/controls",
            "_model_module_version": "1.5.0",
            "_model_name": "DescriptionStyleModel",
            "_view_count": null,
            "_view_module": "@jupyter-widgets/base",
            "_view_module_version": "1.2.0",
            "_view_name": "StyleView",
            "description_width": ""
          }
        },
        "d0b3df7be0d84f2aaf8c2e3b0ee172af": {
          "model_module": "@jupyter-widgets/base",
          "model_name": "LayoutModel",
          "model_module_version": "1.2.0",
          "state": {
            "_model_module": "@jupyter-widgets/base",
            "_model_module_version": "1.2.0",
            "_model_name": "LayoutModel",
            "_view_count": null,
            "_view_module": "@jupyter-widgets/base",
            "_view_module_version": "1.2.0",
            "_view_name": "LayoutView",
            "align_content": null,
            "align_items": null,
            "align_self": null,
            "border": null,
            "bottom": null,
            "display": null,
            "flex": null,
            "flex_flow": null,
            "grid_area": null,
            "grid_auto_columns": null,
            "grid_auto_flow": null,
            "grid_auto_rows": null,
            "grid_column": null,
            "grid_gap": null,
            "grid_row": null,
            "grid_template_areas": null,
            "grid_template_columns": null,
            "grid_template_rows": null,
            "height": null,
            "justify_content": null,
            "justify_items": null,
            "left": null,
            "margin": null,
            "max_height": null,
            "max_width": null,
            "min_height": null,
            "min_width": null,
            "object_fit": null,
            "object_position": null,
            "order": null,
            "overflow": null,
            "overflow_x": null,
            "overflow_y": null,
            "padding": null,
            "right": null,
            "top": null,
            "visibility": null,
            "width": null
          }
        },
        "e863d90fda234fcfacc51a5ce1a7cdc9": {
          "model_module": "@jupyter-widgets/controls",
          "model_name": "ProgressStyleModel",
          "model_module_version": "1.5.0",
          "state": {
            "_model_module": "@jupyter-widgets/controls",
            "_model_module_version": "1.5.0",
            "_model_name": "ProgressStyleModel",
            "_view_count": null,
            "_view_module": "@jupyter-widgets/base",
            "_view_module_version": "1.2.0",
            "_view_name": "StyleView",
            "bar_color": null,
            "description_width": ""
          }
        },
        "4331c90802b542ca851a4a70c5989b39": {
          "model_module": "@jupyter-widgets/base",
          "model_name": "LayoutModel",
          "model_module_version": "1.2.0",
          "state": {
            "_model_module": "@jupyter-widgets/base",
            "_model_module_version": "1.2.0",
            "_model_name": "LayoutModel",
            "_view_count": null,
            "_view_module": "@jupyter-widgets/base",
            "_view_module_version": "1.2.0",
            "_view_name": "LayoutView",
            "align_content": null,
            "align_items": null,
            "align_self": null,
            "border": null,
            "bottom": null,
            "display": null,
            "flex": null,
            "flex_flow": null,
            "grid_area": null,
            "grid_auto_columns": null,
            "grid_auto_flow": null,
            "grid_auto_rows": null,
            "grid_column": null,
            "grid_gap": null,
            "grid_row": null,
            "grid_template_areas": null,
            "grid_template_columns": null,
            "grid_template_rows": null,
            "height": null,
            "justify_content": null,
            "justify_items": null,
            "left": null,
            "margin": null,
            "max_height": null,
            "max_width": null,
            "min_height": null,
            "min_width": null,
            "object_fit": null,
            "object_position": null,
            "order": null,
            "overflow": null,
            "overflow_x": null,
            "overflow_y": null,
            "padding": null,
            "right": null,
            "top": null,
            "visibility": null,
            "width": null
          }
        },
        "3b7036e07f7c4bf283b105920ac24146": {
          "model_module": "@jupyter-widgets/controls",
          "model_name": "DescriptionStyleModel",
          "model_module_version": "1.5.0",
          "state": {
            "_model_module": "@jupyter-widgets/controls",
            "_model_module_version": "1.5.0",
            "_model_name": "DescriptionStyleModel",
            "_view_count": null,
            "_view_module": "@jupyter-widgets/base",
            "_view_module_version": "1.2.0",
            "_view_name": "StyleView",
            "description_width": ""
          }
        }
      }
    }
  },
  "nbformat": 4,
  "nbformat_minor": 5
}
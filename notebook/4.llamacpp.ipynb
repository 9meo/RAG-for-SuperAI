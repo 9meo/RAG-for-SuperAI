{
 "cells": [
  {
   "cell_type": "code",
   "execution_count": 2,
   "metadata": {},
   "outputs": [],
   "source": [
    "# %pip install llama-index-llms-llama-cpp\n"
   ]
  },
  {
   "cell_type": "code",
   "execution_count": 3,
   "metadata": {},
   "outputs": [],
   "source": [
    "from llama_index.core import SimpleDirectoryReader, VectorStoreIndex\n",
    "from llama_index.llms.llama_cpp import LlamaCPP\n",
    "from llama_index.llms.llama_cpp.llama_utils import (\n",
    "    messages_to_prompt,\n",
    "    completion_to_prompt,\n",
    ")"
   ]
  },
  {
   "cell_type": "code",
   "execution_count": 6,
   "metadata": {},
   "outputs": [],
   "source": [
    "model_url='https://huggingface.co/openthaigpt/openthaigpt-1.0.0-7b-chat/resolve/main/openthaigpt-Q4_K_M.gguf?download=true'"
   ]
  },
  {
   "cell_type": "code",
   "execution_count": 7,
   "metadata": {},
   "outputs": [
    {
     "name": "stdout",
     "output_type": "stream",
     "text": [
      "Downloading url https://huggingface.co/openthaigpt/openthaigpt-1.0.0-7b-chat/resolve/main/openthaigpt-Q4_K_M.gguf?download=true to path /tmp/llama_index/models/openthaigpt-Q4_K_M.gguf?download=true\n",
      "total size (MB): 4132.76\n"
     ]
    },
    {
     "name": "stderr",
     "output_type": "stream",
     "text": [
      "3942it [19:33,  3.36it/s]                          \n",
      "llama_model_loader: loaded meta data with 23 key-value pairs and 291 tensors from /tmp/llama_index/models/openthaigpt-Q4_K_M.gguf?download=true (version GGUF V3 (latest))\n",
      "llama_model_loader: Dumping metadata keys/values. Note: KV overrides do not apply in this output.\n",
      "llama_model_loader: - kv   0:                       general.architecture str              = llama\n",
      "llama_model_loader: - kv   1:                               general.name str              = LLaMA v2\n",
      "llama_model_loader: - kv   2:                       llama.context_length u32              = 4096\n",
      "llama_model_loader: - kv   3:                     llama.embedding_length u32              = 4096\n",
      "llama_model_loader: - kv   4:                          llama.block_count u32              = 32\n",
      "llama_model_loader: - kv   5:                  llama.feed_forward_length u32              = 11008\n",
      "llama_model_loader: - kv   6:                 llama.rope.dimension_count u32              = 128\n",
      "llama_model_loader: - kv   7:                 llama.attention.head_count u32              = 32\n",
      "llama_model_loader: - kv   8:              llama.attention.head_count_kv u32              = 32\n",
      "llama_model_loader: - kv   9:     llama.attention.layer_norm_rms_epsilon f32              = 0.000010\n",
      "llama_model_loader: - kv  10:                       llama.rope.freq_base f32              = 10000.000000\n",
      "llama_model_loader: - kv  11:                          general.file_type u32              = 15\n",
      "llama_model_loader: - kv  12:                       tokenizer.ggml.model str              = llama\n",
      "llama_model_loader: - kv  13:                      tokenizer.ggml.tokens arr[str,41088]   = [\"<unk>\", \"<s>\", \"</s>\", \"<0x00>\", \"<...\n",
      "llama_model_loader: - kv  14:                      tokenizer.ggml.scores arr[f32,41088]   = [0.000000, 0.000000, 0.000000, 0.0000...\n",
      "llama_model_loader: - kv  15:                  tokenizer.ggml.token_type arr[i32,41088]   = [2, 3, 3, 6, 6, 6, 6, 6, 6, 6, 6, 6, ...\n",
      "llama_model_loader: - kv  16:                tokenizer.ggml.bos_token_id u32              = 1\n",
      "llama_model_loader: - kv  17:                tokenizer.ggml.eos_token_id u32              = 2\n",
      "llama_model_loader: - kv  18:            tokenizer.ggml.unknown_token_id u32              = 0\n",
      "llama_model_loader: - kv  19:            tokenizer.ggml.padding_token_id u32              = 41074\n",
      "llama_model_loader: - kv  20:               tokenizer.ggml.add_bos_token bool             = true\n",
      "llama_model_loader: - kv  21:               tokenizer.ggml.add_eos_token bool             = false\n",
      "llama_model_loader: - kv  22:               general.quantization_version u32              = 2\n",
      "llama_model_loader: - type  f32:   65 tensors\n",
      "llama_model_loader: - type q4_K:  193 tensors\n",
      "llama_model_loader: - type q6_K:   33 tensors\n",
      "llm_load_vocab: mismatch in special tokens definition ( 522/41088 vs 277/41088 ).\n",
      "llm_load_print_meta: format           = GGUF V3 (latest)\n",
      "llm_load_print_meta: arch             = llama\n",
      "llm_load_print_meta: vocab type       = SPM\n",
      "llm_load_print_meta: n_vocab          = 41088\n",
      "llm_load_print_meta: n_merges         = 0\n",
      "llm_load_print_meta: n_ctx_train      = 4096\n",
      "llm_load_print_meta: n_embd           = 4096\n",
      "llm_load_print_meta: n_head           = 32\n",
      "llm_load_print_meta: n_head_kv        = 32\n",
      "llm_load_print_meta: n_layer          = 32\n",
      "llm_load_print_meta: n_rot            = 128\n",
      "llm_load_print_meta: n_embd_head_k    = 128\n",
      "llm_load_print_meta: n_embd_head_v    = 128\n",
      "llm_load_print_meta: n_gqa            = 1\n",
      "llm_load_print_meta: n_embd_k_gqa     = 4096\n",
      "llm_load_print_meta: n_embd_v_gqa     = 4096\n",
      "llm_load_print_meta: f_norm_eps       = 0.0e+00\n",
      "llm_load_print_meta: f_norm_rms_eps   = 1.0e-05\n",
      "llm_load_print_meta: f_clamp_kqv      = 0.0e+00\n",
      "llm_load_print_meta: f_max_alibi_bias = 0.0e+00\n",
      "llm_load_print_meta: n_ff             = 11008\n",
      "llm_load_print_meta: n_expert         = 0\n",
      "llm_load_print_meta: n_expert_used    = 0\n",
      "llm_load_print_meta: pooling type     = 0\n",
      "llm_load_print_meta: rope type        = 0\n",
      "llm_load_print_meta: rope scaling     = linear\n",
      "llm_load_print_meta: freq_base_train  = 10000.0\n",
      "llm_load_print_meta: freq_scale_train = 1\n",
      "llm_load_print_meta: n_yarn_orig_ctx  = 4096\n",
      "llm_load_print_meta: rope_finetuned   = unknown\n",
      "llm_load_print_meta: ssm_d_conv       = 0\n",
      "llm_load_print_meta: ssm_d_inner      = 0\n",
      "llm_load_print_meta: ssm_d_state      = 0\n",
      "llm_load_print_meta: ssm_dt_rank      = 0\n",
      "llm_load_print_meta: model type       = 7B\n",
      "llm_load_print_meta: model ftype      = Q4_K - Medium\n",
      "llm_load_print_meta: model params     = 6.81 B\n",
      "llm_load_print_meta: model size       = 3.85 GiB (4.85 BPW) \n",
      "llm_load_print_meta: general.name     = LLaMA v2\n",
      "llm_load_print_meta: BOS token        = 1 '<s>'\n",
      "llm_load_print_meta: EOS token        = 2 '</s>'\n",
      "llm_load_print_meta: UNK token        = 0 '<unk>'\n",
      "llm_load_print_meta: PAD token        = 41074 '<PAD>'\n",
      "llm_load_print_meta: LF token         = 13 '<0x0A>'\n",
      "llm_load_tensors: ggml ctx size =    0.11 MiB\n",
      "llm_load_tensors:        CPU buffer size =  3940.33 MiB\n",
      ".................................................................................................\n",
      "llama_new_context_with_model: n_ctx      = 1000\n",
      "llama_new_context_with_model: freq_base  = 10000.0\n",
      "llama_new_context_with_model: freq_scale = 1\n",
      "llama_kv_cache_init:        CPU KV buffer size =   500.00 MiB\n",
      "llama_new_context_with_model: KV self size  =  500.00 MiB, K (f16):  250.00 MiB, V (f16):  250.00 MiB\n",
      "llama_new_context_with_model:        CPU input buffer size   =    10.97 MiB\n",
      "llama_new_context_with_model:        CPU compute buffer size =    94.50 MiB\n",
      "llama_new_context_with_model: graph splits (measure): 1\n",
      "AVX = 1 | AVX_VNNI = 0 | AVX2 = 1 | AVX512 = 0 | AVX512_VBMI = 0 | AVX512_VNNI = 0 | FMA = 1 | NEON = 0 | ARM_FMA = 0 | F16C = 1 | FP16_VA = 0 | WASM_SIMD = 0 | BLAS = 0 | SSE3 = 1 | SSSE3 = 1 | VSX = 0 | MATMUL_INT8 = 0 | \n",
      "Model metadata: {'tokenizer.ggml.add_eos_token': 'false', 'tokenizer.ggml.padding_token_id': '41074', 'tokenizer.ggml.unknown_token_id': '0', 'tokenizer.ggml.eos_token_id': '2', 'general.architecture': 'llama', 'llama.rope.freq_base': '10000.000000', 'llama.context_length': '4096', 'general.name': 'LLaMA v2', 'tokenizer.ggml.add_bos_token': 'true', 'llama.embedding_length': '4096', 'llama.feed_forward_length': '11008', 'llama.attention.layer_norm_rms_epsilon': '0.000010', 'llama.rope.dimension_count': '128', 'tokenizer.ggml.bos_token_id': '1', 'llama.attention.head_count': '32', 'llama.block_count': '32', 'llama.attention.head_count_kv': '32', 'general.quantization_version': '2', 'tokenizer.ggml.model': 'llama', 'general.file_type': '15'}\n",
      "Using fallback chat format: None\n"
     ]
    }
   ],
   "source": [
    "llm = LlamaCPP(\n",
    "    # You can pass in the URL to a GGML model to download it automatically\n",
    "    model_url=model_url,\n",
    "    # optionally, you can set the path to a pre-downloaded model instead of model_url\n",
    "    model_path=None,\n",
    "    temperature=0.1,\n",
    "    max_new_tokens=256,\n",
    "    # llama2 has a context window of 4096 tokens, but we set it lower to allow for some wiggle room\n",
    "    context_window=1000,\n",
    "    # kwargs to pass to __call__()\n",
    "    generate_kwargs={},\n",
    "    # kwargs to pass to __init__()\n",
    "    # set to at least 1 to use GPU\n",
    "    model_kwargs={\"n_gpu_layers\": 0},\n",
    "    # transform inputs into Llama2 format\n",
    "    messages_to_prompt=messages_to_prompt,\n",
    "    completion_to_prompt=completion_to_prompt,\n",
    "    verbose=True,\n",
    ")"
   ]
  },
  {
   "cell_type": "code",
   "execution_count": 9,
   "metadata": {},
   "outputs": [
    {
     "name": "stderr",
     "output_type": "stream",
     "text": [
      "\n",
      "llama_print_timings:        load time =    3251.48 ms\n",
      "llama_print_timings:      sample time =      23.90 ms /   150 runs   (    0.16 ms per token,  6276.41 tokens per second)\n",
      "llama_print_timings: prompt eval time =    3251.39 ms /    72 tokens (   45.16 ms per token,    22.14 tokens per second)\n",
      "llama_print_timings:        eval time =   16564.09 ms /   149 runs   (  111.17 ms per token,     9.00 tokens per second)\n",
      "llama_print_timings:       total time =   20168.35 ms /   221 tokens\n"
     ]
    },
    {
     "data": {
      "text/plain": [
       "CompletionResponse(text='หากคุณต้องการลดน้ำหนัก คุณสามารถปฏิบัติตามเคล็ดลับต่อไปนี้: - กินอาหารแคลอรี่ต่ำและมีค่าดัชนีโปรตีนสูง - ออกกำลังกายและทำกิจกรรมทางกายเป็นประจำ -นอนหลับพักผ่อนให้เพียงพอ -งดแอลกอฮอล์ การสูบบุหรี่ -เลือกอาหารที่มีพืชเป็นหลัก การปฏิบัติตามคำแนะนำเหล่านี้จะช่วยให้คุณบรรลุเป้าหมายการลดน้ำหนักได้ สิ่งสำคัญคือต้องจำไว้ว่าไม่มีทางลัดหรือวิธีแก้ปัญหาที่รวดเร็วในการลดน้ำหนัก ความสำเร็จในระยะยาวและยั่งยืนในการลดน้ำหนักการผสมผสานระหว่างการรับประทานอาหาร การออกกำลังกาย และการวิถีชีวิตที่จำเป็น', additional_kwargs={}, raw={'id': 'cmpl-170860cb-932f-443a-9ad7-7581663525f9', 'object': 'text_completion', 'created': 1714496499, 'model': '/tmp/llama_index/models/openthaigpt-Q4_K_M.gguf?download=true', 'choices': [{'text': 'หากคุณต้องการลดน้ำหนัก คุณสามารถปฏิบัติตามเคล็ดลับต่อไปนี้: - กินอาหารแคลอรี่ต่ำและมีค่าดัชนีโปรตีนสูง - ออกกำลังกายและทำกิจกรรมทางกายเป็นประจำ -นอนหลับพักผ่อนให้เพียงพอ -งดแอลกอฮอล์ การสูบบุหรี่ -เลือกอาหารที่มีพืชเป็นหลัก การปฏิบัติตามคำแนะนำเหล่านี้จะช่วยให้คุณบรรลุเป้าหมายการลดน้ำหนักได้ สิ่งสำคัญคือต้องจำไว้ว่าไม่มีทางลัดหรือวิธีแก้ปัญหาที่รวดเร็วในการลดน้ำหนัก ความสำเร็จในระยะยาวและยั่งยืนในการลดน้ำหนักการผสมผสานระหว่างการรับประทานอาหาร การออกกำลังกาย และการวิถีชีวิตที่จำเป็น', 'index': 0, 'logprobs': None, 'finish_reason': 'stop'}], 'usage': {'prompt_tokens': 72, 'completion_tokens': 149, 'total_tokens': 221}}, logprobs=None, delta=None)"
      ]
     },
     "execution_count": 9,
     "metadata": {},
     "output_type": "execute_result"
    }
   ],
   "source": [
    "llm.complete('ขอวิธีลดความอ้วนหน่อย')"
   ]
  },
  {
   "cell_type": "code",
   "execution_count": 10,
   "metadata": {},
   "outputs": [
    {
     "name": "stderr",
     "output_type": "stream",
     "text": [
      "Llama.generate: prefix-match hit\n",
      "\n",
      "llama_print_timings:        load time =    3251.48 ms\n",
      "llama_print_timings:      sample time =      40.99 ms /   256 runs   (    0.16 ms per token,  6246.04 tokens per second)\n",
      "llama_print_timings: prompt eval time =     533.90 ms /    11 tokens (   48.54 ms per token,    20.60 tokens per second)\n",
      "llama_print_timings:        eval time =   28105.85 ms /   255 runs   (  110.22 ms per token,     9.07 tokens per second)\n",
      "llama_print_timings:       total time =   29245.81 ms /   266 tokens\n"
     ]
    },
    {
     "data": {
      "text/plain": [
       "CompletionResponse(text='นี่เป็นสูตรง่ายๆ สำหรับน้ำจิ้มไก่: ส่วนผสม: • น้ำมันมะกอก 1/4 ถ้วย • หัวหอม 1/2 หัวสับ • กระเทียม 2 กลีบสับ • พริกหยวก 1 เม็ดสับ • ยี่หร่า 1 ช้อนชา • ปาปริก้า 1 ช้อนชา • ผงกระเทียม 1 ช้อนชา • น้ำส้มสายชูแอปเปิ้ลไซเดอร์ 1/4 ถ้วย • น้ำผึ้ง 1 ช้อนโต๊ะ • มัสตาร์ดดิจอง 1 ช้อนโต๊ะ • ผิวมะนาว 1/2 ลูกขูด • เกลือและพริกไทยดำป่นเพื่อลิ้มรส คำแนะนำ: 1. ในชามขนาดใหญ่ ผสมน้ำมันมะกอก หัวหอม กระเทียม พริกหยวก ยี่หร่า ปาปริก้า ผงกระเทียม และน้ำส้มสายชูแอปเปิ้ลไซเดอร์ 2. ใส่น้ำผึ้งและมัสตาร์ดดิฌงลงไปแล้วผสมให้เข้ากัน 3. เติมเกลือและพริกไทยเพื่อลิ้มรส 4. ชิมรสและปรับรสหากจ', additional_kwargs={}, raw={'id': 'cmpl-6c65ce49-1f90-4d34-abbb-e5cab609b819', 'object': 'text_completion', 'created': 1714496525, 'model': '/tmp/llama_index/models/openthaigpt-Q4_K_M.gguf?download=true', 'choices': [{'text': 'นี่เป็นสูตรง่ายๆ สำหรับน้ำจิ้มไก่: ส่วนผสม: • น้ำมันมะกอก 1/4 ถ้วย • หัวหอม 1/2 หัวสับ • กระเทียม 2 กลีบสับ • พริกหยวก 1 เม็ดสับ • ยี่หร่า 1 ช้อนชา • ปาปริก้า 1 ช้อนชา • ผงกระเทียม 1 ช้อนชา • น้ำส้มสายชูแอปเปิ้ลไซเดอร์ 1/4 ถ้วย • น้ำผึ้ง 1 ช้อนโต๊ะ • มัสตาร์ดดิจอง 1 ช้อนโต๊ะ • ผิวมะนาว 1/2 ลูกขูด • เกลือและพริกไทยดำป่นเพื่อลิ้มรส คำแนะนำ: 1. ในชามขนาดใหญ่ ผสมน้ำมันมะกอก หัวหอม กระเทียม พริกหยวก ยี่หร่า ปาปริก้า ผงกระเทียม และน้ำส้มสายชูแอปเปิ้ลไซเดอร์ 2. ใส่น้ำผึ้งและมัสตาร์ดดิฌงลงไปแล้วผสมให้เข้ากัน 3. เติมเกลือและพริกไทยเพื่อลิ้มรส 4. ชิมรสและปรับรสหากจ', 'index': 0, 'logprobs': None, 'finish_reason': 'length'}], 'usage': {'prompt_tokens': 73, 'completion_tokens': 256, 'total_tokens': 329}}, logprobs=None, delta=None)"
      ]
     },
     "execution_count": 10,
     "metadata": {},
     "output_type": "execute_result"
    }
   ],
   "source": [
    "llm.complete('ขอสูตรน้ำจิ้มไก่')"
   ]
  },
  {
   "cell_type": "code",
   "execution_count": null,
   "metadata": {},
   "outputs": [],
   "source": []
  }
 ],
 "metadata": {
  "kernelspec": {
   "display_name": "Python 3",
   "language": "python",
   "name": "python3"
  },
  "language_info": {
   "codemirror_mode": {
    "name": "ipython",
    "version": 3
   },
   "file_extension": ".py",
   "mimetype": "text/x-python",
   "name": "python",
   "nbconvert_exporter": "python",
   "pygments_lexer": "ipython3",
   "version": "3.10.12"
  }
 },
 "nbformat": 4,
 "nbformat_minor": 2
}
